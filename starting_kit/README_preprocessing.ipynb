{
 "cells": [
  {
   "cell_type": "markdown",
   "metadata": {},
   "source": [
    "<div style=\"background:#FFFFAA\">\n",
    "<img src=\"logo.jpg\", width=150, ALIGN=\"left\", border=20>\n",
    "    <h1>Team GAIASAVERS</h1>\n",
    "    <h3>Alban Petit, Wafa Bouzouita,Timothée Babinet, Maxime Chor, Eric Wang, Sebastien Warichet</h3>\n",
    "    <h2>Plankton classification challenge</h2>\n",
    "\n",
    "<br>This code was tested with <br>\n",
    "Python 3.7 |Anaconda custom (64-bit)| (default, Jun 28 2018, 11:07:29) (https://anaconda.org/)<br>\n",
    "<i> Adapted for Chalab by Isabelle Guyon from original code of Balázs Kégl</i> <br>\n",
    "<a href=\"http://www.datascience-paris-saclay.fr\">Paris Saclay Center for Data Science (CDS)</a>\n",
    "</center>\n",
    "<p>\n",
    "ALL INFORMATION, SOFTWARE, DOCUMENTATION, AND DATA ARE PROVIDED \"AS-IS\". The CDS, CHALEARN, AND/OR OTHER ORGANIZERS OR CODE AUTHORS DISCLAIM ANY EXPRESSED OR IMPLIED WARRANTIES, INCLUDING, BUT NOT LIMITED TO, THE IMPLIED WARRANTIES OF MERCHANTABILITY AND FITNESS FOR ANY PARTICULAR PURPOSE, AND THE WARRANTY OF NON-INFRIGEMENT OF ANY THIRD PARTY'S INTELLECTUAL PROPERTY RIGHTS. IN NO EVENT SHALL AUTHORS AND ORGANIZERS BE LIABLE FOR ANY SPECIAL, \n",
    "INDIRECT OR CONSEQUENTIAL DAMAGES OR ANY DAMAGES WHATSOEVER ARISING OUT OF OR IN CONNECTION WITH THE USE OR PERFORMANCE OF SOFTWARE, DOCUMENTS, MATERIALS, PUBLICATIONS, OR INFORMATION MADE AVAILABLE FOR THE CHALLENGE. \n",
    "</div>"
   ]
  },
  {
   "cell_type": "markdown",
   "metadata": {},
   "source": [
    "<div style=\"background:#FFFFAA\">\n",
    "    <h2>Introduction </h2>\n",
    "     <br>\n",
    "       \n",
    "According to [NRMA15], a link has been found between the quality of water and the presence of plankton in said water. As water quality increases, the abundance and diversity of plankton does as well. The aim of our project is to build a plankton classifier to assess water quality.\n",
    "\n",
    "We use for this problem the Bering Sea dataset, an in situ plankton dataset published in May 2019 by Kaichang Cheng [Che19]. This datset contains 7 classes with an even spread.\n",
    "\n",
    "        \n",
    "References and credits: \n",
    "- [NRMA15] A. Nair, J.K. Reshma, A. Mathew, and A. Ashok. Effect of water quality on phytoplankton abundance in selected ponds of nedumangad block panchayat, kerala. Emer Life Sci Res, 2015.\n",
    "- [Che19] K. Cheng. Bering sea dataset. https://doi.org/10.6084/m9.figshare.8146283.v3, 2019.\n",
    " <br>\n",
    "</div>"
   ]
  },
  {
   "cell_type": "markdown",
   "metadata": {},
   "source": [
    "<img src=\"images/sample.png\" alt=\"Drawing\"/>\n",
    "To see more images for each class, see the \"images\" folder."
   ]
  },
  {
   "cell_type": "code",
   "execution_count": 1,
   "metadata": {},
   "outputs": [],
   "source": [
    "model_dir = 'sample_code_submission/'                        # Change the model to a better one once you have one!\n",
    "result_dir = 'sample_result_submission/' \n",
    "problem_dir = 'ingestion_program/'  \n",
    "score_dir = 'scoring_program/'\n",
    "from sys import path; path.append(model_dir); path.append(problem_dir); path.append(score_dir); \n",
    "%matplotlib inline\n",
    "# Uncomment the next lines to auto-reload libraries (this causes some problem with pickles in Python 3)\n",
    "%load_ext autoreload\n",
    "%autoreload 2\n",
    "import seaborn as sns; sns.set()\n",
    "import warnings\n",
    "warnings.simplefilter(action='ignore', category=FutureWarning)\n",
    "import matplotlib.pyplot as plt\n",
    "import pandas as pd"
   ]
  },
  {
   "cell_type": "markdown",
   "metadata": {},
   "source": [
    "<div style=\"background:#FFFFAA\">\n",
    "    <h1> Step 1: Exploratory data analysis </h1>\n",
    "<p>\n",
    "We provide sample_data with the starting kit, but to prepare your submission, you must fetch the public_data from the challenge website and point to it.\n",
    "    <br>\n",
    "    <span style=\"color:red\"> Just change the data name in the block below. In the rest of the section, replace the sample plots by anything you want. </span>\n",
    "</div>"
   ]
  },
  {
   "cell_type": "code",
   "execution_count": 2,
   "metadata": {},
   "outputs": [
    {
     "name": "stdout",
     "output_type": "stream",
     "text": [
      "plankton_feat.name    plankton_test.data       plankton_valid.data\r\n",
      "plankton_label.name   plankton_train.data\r\n",
      "plankton_public.info  plankton_train.solution\r\n"
     ]
    }
   ],
   "source": [
    "#data_dir = 'sample_data'              # Change this to the directory where you put the input data\n",
    "data_dir = './public_data'          # The sample_data directory should contain only a very small subset of the data\n",
    "data_name = 'plankton'\n",
    "!ls $data_dir*"
   ]
  },
  {
   "cell_type": "markdown",
   "metadata": {},
   "source": [
    "<h3>Two \"feature representation\"</h3>\n",
    "\n",
    "<p>\n",
    "1.\n",
    "All of the images are in various shades of gray. As such, we can represent every image by a vector of 90000 (300x300) features where each feature is a float value between 0 and 255 representing the brightness of a pixel (0 being a black pixel and 255 a white one). It is also possible to reduce the size of the images to reduce the number of features as seen in figure 3 where we reduced the size to 100x100 pixels.\n",
    "</p>"
   ]
  },
  {
   "cell_type": "markdown",
   "metadata": {},
   "source": [
    "<tr>\n",
    "    <td> <img src=\"images/gray.png\" alt=\"Drawing\" style=\"width: 250px;\"/> </td>\n",
    "    <td> <img src=\"images/binarized.png\" alt=\"Drawing\" style=\"width: 250px;\"/> </td>\n",
    "</tr>\n"
   ]
  },
  {
   "cell_type": "markdown",
   "metadata": {},
   "source": [
    "<p>\n",
    "2. At first we will have four types of \"features\". Two \"features\" are applied on the binarized images.\n",
    "    <ul>\n",
    "        <li>The first is a sum of black pixels, per line and per column.\n",
    "This gives us 2 vectors of size 100. These \"features\" are representative among others of the shape of the plankton.\n",
    "For round seeders the ratio between rows and columns near the center of the image should be close.\n",
    "For longer plankton the ratio will be either low or high, depending on plankton position.\n",
    "        </li>\n",
    "        <li>The second is the average of the pixels.\n",
    "            This gives us information on the size of the plankton.\n",
    "        </li>\n",
    "        <li>The third feature is the variance and is applied to non-binarized images.</li>\n",
    "        <li>The last feature is the length of the contour of the plankton. It is obtained by applying a sobel filter on the image. This filter will put black pixels on the contours and white ones everywhere else. We can then just compute the amount of black pixels.\n",
    "    </ul>\n",
    "</p>"
   ]
  },
  {
   "cell_type": "markdown",
   "metadata": {},
   "source": [
    "For convenience, we load the data as a \"pandas\" data frame, so we can use \"pandas\" and \"seaborn\" built in functions to explore the data."
   ]
  },
  {
   "cell_type": "code",
   "execution_count": 3,
   "metadata": {},
   "outputs": [
    {
     "name": "stdout",
     "output_type": "stream",
     "text": [
      "Reading ./public_data/plankton_train from AutoML format\n",
      "Number of examples = 10752\n",
      "Number of features = 203\n",
      "          Class\n",
      "0  chaetognatha\n",
      "1      copepoda\n",
      "2   euphausiids\n",
      "3   fish_larvae\n",
      "4      limacina\n",
      "5       medusae\n",
      "6         other\n",
      "Number of classes = 7\n"
     ]
    }
   ],
   "source": [
    "from data_io import read_as_df\n",
    "data = read_as_df(data_dir  + '/' + data_name)                # The data are loaded as a Pandas Data Frame"
   ]
  },
  {
   "cell_type": "markdown",
   "metadata": {},
   "source": [
    "This shows the distribution of labels in the training set"
   ]
  },
  {
   "cell_type": "code",
   "execution_count": 4,
   "metadata": {},
   "outputs": [
    {
     "data": {
      "text/plain": [
       "chaetognatha    1536\n",
       "euphausiids     1536\n",
       "copepoda        1536\n",
       "medusae         1536\n",
       "other           1536\n",
       "fish_larvae     1536\n",
       "limacina        1536\n",
       "Name: target, dtype: int64"
      ]
     },
     "execution_count": 4,
     "metadata": {},
     "output_type": "execute_result"
    }
   ],
   "source": [
    "data['target'].value_counts()"
   ]
  },
  {
   "cell_type": "markdown",
   "metadata": {},
   "source": [
    "The first rows of the dataset."
   ]
  },
  {
   "cell_type": "code",
   "execution_count": 5,
   "metadata": {},
   "outputs": [
    {
     "data": {
      "text/html": [
       "<div>\n",
       "<style scoped>\n",
       "    .dataframe tbody tr th:only-of-type {\n",
       "        vertical-align: middle;\n",
       "    }\n",
       "\n",
       "    .dataframe tbody tr th {\n",
       "        vertical-align: top;\n",
       "    }\n",
       "\n",
       "    .dataframe thead th {\n",
       "        text-align: right;\n",
       "    }\n",
       "</style>\n",
       "<table border=\"1\" class=\"dataframe\">\n",
       "  <thead>\n",
       "    <tr style=\"text-align: right;\">\n",
       "      <th></th>\n",
       "      <th>sum_axis_0_0</th>\n",
       "      <th>sum_axis_0_1</th>\n",
       "      <th>sum_axis_0_2</th>\n",
       "      <th>sum_axis_0_3</th>\n",
       "      <th>sum_axis_0_4</th>\n",
       "      <th>sum_axis_0_5</th>\n",
       "      <th>sum_axis_0_6</th>\n",
       "      <th>sum_axis_0_7</th>\n",
       "      <th>sum_axis_0_8</th>\n",
       "      <th>sum_axis_0_9</th>\n",
       "      <th>...</th>\n",
       "      <th>sum_axis_1_94</th>\n",
       "      <th>sum_axis_1_95</th>\n",
       "      <th>sum_axis_1_96</th>\n",
       "      <th>sum_axis_1_97</th>\n",
       "      <th>sum_axis_1_98</th>\n",
       "      <th>sum_axis_1_99</th>\n",
       "      <th>mean</th>\n",
       "      <th>variance</th>\n",
       "      <th>outline_length</th>\n",
       "      <th>target</th>\n",
       "    </tr>\n",
       "  </thead>\n",
       "  <tbody>\n",
       "    <tr>\n",
       "      <th>0</th>\n",
       "      <td>1.0</td>\n",
       "      <td>1.0</td>\n",
       "      <td>1.00</td>\n",
       "      <td>1.00</td>\n",
       "      <td>1.00</td>\n",
       "      <td>1.00</td>\n",
       "      <td>1.00</td>\n",
       "      <td>1.00</td>\n",
       "      <td>1.00</td>\n",
       "      <td>1.00</td>\n",
       "      <td>...</td>\n",
       "      <td>0.83871</td>\n",
       "      <td>0.83871</td>\n",
       "      <td>0.827957</td>\n",
       "      <td>0.817204</td>\n",
       "      <td>0.795699</td>\n",
       "      <td>0.774194</td>\n",
       "      <td>0.744560</td>\n",
       "      <td>0.062088</td>\n",
       "      <td>9.82</td>\n",
       "      <td>other</td>\n",
       "    </tr>\n",
       "    <tr>\n",
       "      <th>1</th>\n",
       "      <td>1.0</td>\n",
       "      <td>1.0</td>\n",
       "      <td>1.00</td>\n",
       "      <td>1.00</td>\n",
       "      <td>1.00</td>\n",
       "      <td>1.00</td>\n",
       "      <td>1.00</td>\n",
       "      <td>1.00</td>\n",
       "      <td>1.00</td>\n",
       "      <td>1.00</td>\n",
       "      <td>...</td>\n",
       "      <td>1.00000</td>\n",
       "      <td>1.00000</td>\n",
       "      <td>1.000000</td>\n",
       "      <td>1.000000</td>\n",
       "      <td>1.000000</td>\n",
       "      <td>1.000000</td>\n",
       "      <td>0.852347</td>\n",
       "      <td>0.021939</td>\n",
       "      <td>0.64</td>\n",
       "      <td>other</td>\n",
       "    </tr>\n",
       "    <tr>\n",
       "      <th>2</th>\n",
       "      <td>1.0</td>\n",
       "      <td>1.0</td>\n",
       "      <td>1.00</td>\n",
       "      <td>1.00</td>\n",
       "      <td>1.00</td>\n",
       "      <td>1.00</td>\n",
       "      <td>1.00</td>\n",
       "      <td>1.00</td>\n",
       "      <td>1.00</td>\n",
       "      <td>1.00</td>\n",
       "      <td>...</td>\n",
       "      <td>0.82000</td>\n",
       "      <td>0.90000</td>\n",
       "      <td>1.000000</td>\n",
       "      <td>1.000000</td>\n",
       "      <td>1.000000</td>\n",
       "      <td>1.000000</td>\n",
       "      <td>0.478031</td>\n",
       "      <td>0.130620</td>\n",
       "      <td>6.68</td>\n",
       "      <td>limacina</td>\n",
       "    </tr>\n",
       "    <tr>\n",
       "      <th>3</th>\n",
       "      <td>1.0</td>\n",
       "      <td>1.0</td>\n",
       "      <td>0.99</td>\n",
       "      <td>0.96</td>\n",
       "      <td>0.94</td>\n",
       "      <td>0.94</td>\n",
       "      <td>0.92</td>\n",
       "      <td>0.92</td>\n",
       "      <td>0.92</td>\n",
       "      <td>0.93</td>\n",
       "      <td>...</td>\n",
       "      <td>0.96000</td>\n",
       "      <td>0.99000</td>\n",
       "      <td>1.000000</td>\n",
       "      <td>1.000000</td>\n",
       "      <td>1.000000</td>\n",
       "      <td>1.000000</td>\n",
       "      <td>0.799294</td>\n",
       "      <td>0.037921</td>\n",
       "      <td>6.86</td>\n",
       "      <td>chaetognatha</td>\n",
       "    </tr>\n",
       "    <tr>\n",
       "      <th>4</th>\n",
       "      <td>1.0</td>\n",
       "      <td>1.0</td>\n",
       "      <td>1.00</td>\n",
       "      <td>1.00</td>\n",
       "      <td>1.00</td>\n",
       "      <td>1.00</td>\n",
       "      <td>1.00</td>\n",
       "      <td>1.00</td>\n",
       "      <td>1.00</td>\n",
       "      <td>1.00</td>\n",
       "      <td>...</td>\n",
       "      <td>1.00000</td>\n",
       "      <td>0.99000</td>\n",
       "      <td>0.990000</td>\n",
       "      <td>0.990000</td>\n",
       "      <td>1.000000</td>\n",
       "      <td>1.000000</td>\n",
       "      <td>0.713423</td>\n",
       "      <td>0.065195</td>\n",
       "      <td>11.56</td>\n",
       "      <td>medusae</td>\n",
       "    </tr>\n",
       "  </tbody>\n",
       "</table>\n",
       "<p>5 rows × 204 columns</p>\n",
       "</div>"
      ],
      "text/plain": [
       "   sum_axis_0_0  sum_axis_0_1  sum_axis_0_2  sum_axis_0_3  sum_axis_0_4  \\\n",
       "0           1.0           1.0          1.00          1.00          1.00   \n",
       "1           1.0           1.0          1.00          1.00          1.00   \n",
       "2           1.0           1.0          1.00          1.00          1.00   \n",
       "3           1.0           1.0          0.99          0.96          0.94   \n",
       "4           1.0           1.0          1.00          1.00          1.00   \n",
       "\n",
       "   sum_axis_0_5  sum_axis_0_6  sum_axis_0_7  sum_axis_0_8  sum_axis_0_9  ...  \\\n",
       "0          1.00          1.00          1.00          1.00          1.00  ...   \n",
       "1          1.00          1.00          1.00          1.00          1.00  ...   \n",
       "2          1.00          1.00          1.00          1.00          1.00  ...   \n",
       "3          0.94          0.92          0.92          0.92          0.93  ...   \n",
       "4          1.00          1.00          1.00          1.00          1.00  ...   \n",
       "\n",
       "   sum_axis_1_94  sum_axis_1_95  sum_axis_1_96  sum_axis_1_97  sum_axis_1_98  \\\n",
       "0        0.83871        0.83871       0.827957       0.817204       0.795699   \n",
       "1        1.00000        1.00000       1.000000       1.000000       1.000000   \n",
       "2        0.82000        0.90000       1.000000       1.000000       1.000000   \n",
       "3        0.96000        0.99000       1.000000       1.000000       1.000000   \n",
       "4        1.00000        0.99000       0.990000       0.990000       1.000000   \n",
       "\n",
       "   sum_axis_1_99      mean  variance  outline_length        target  \n",
       "0       0.774194  0.744560  0.062088            9.82         other  \n",
       "1       1.000000  0.852347  0.021939            0.64         other  \n",
       "2       1.000000  0.478031  0.130620            6.68      limacina  \n",
       "3       1.000000  0.799294  0.037921            6.86  chaetognatha  \n",
       "4       1.000000  0.713423  0.065195           11.56       medusae  \n",
       "\n",
       "[5 rows x 204 columns]"
      ]
     },
     "execution_count": 5,
     "metadata": {},
     "output_type": "execute_result"
    }
   ],
   "source": [
    "data.head()"
   ]
  },
  {
   "cell_type": "markdown",
   "metadata": {},
   "source": [
    "Some statistics about the features."
   ]
  },
  {
   "cell_type": "code",
   "execution_count": 6,
   "metadata": {},
   "outputs": [
    {
     "data": {
      "text/html": [
       "<div>\n",
       "<style scoped>\n",
       "    .dataframe tbody tr th:only-of-type {\n",
       "        vertical-align: middle;\n",
       "    }\n",
       "\n",
       "    .dataframe tbody tr th {\n",
       "        vertical-align: top;\n",
       "    }\n",
       "\n",
       "    .dataframe thead th {\n",
       "        text-align: right;\n",
       "    }\n",
       "</style>\n",
       "<table border=\"1\" class=\"dataframe\">\n",
       "  <thead>\n",
       "    <tr style=\"text-align: right;\">\n",
       "      <th></th>\n",
       "      <th>sum_axis_0_0</th>\n",
       "      <th>sum_axis_0_1</th>\n",
       "      <th>sum_axis_0_2</th>\n",
       "      <th>sum_axis_0_3</th>\n",
       "      <th>sum_axis_0_4</th>\n",
       "      <th>sum_axis_0_5</th>\n",
       "      <th>sum_axis_0_6</th>\n",
       "      <th>sum_axis_0_7</th>\n",
       "      <th>sum_axis_0_8</th>\n",
       "      <th>sum_axis_0_9</th>\n",
       "      <th>...</th>\n",
       "      <th>sum_axis_1_93</th>\n",
       "      <th>sum_axis_1_94</th>\n",
       "      <th>sum_axis_1_95</th>\n",
       "      <th>sum_axis_1_96</th>\n",
       "      <th>sum_axis_1_97</th>\n",
       "      <th>sum_axis_1_98</th>\n",
       "      <th>sum_axis_1_99</th>\n",
       "      <th>mean</th>\n",
       "      <th>variance</th>\n",
       "      <th>outline_length</th>\n",
       "    </tr>\n",
       "  </thead>\n",
       "  <tbody>\n",
       "    <tr>\n",
       "      <th>count</th>\n",
       "      <td>10752.000000</td>\n",
       "      <td>10752.000000</td>\n",
       "      <td>10752.000000</td>\n",
       "      <td>10752.000000</td>\n",
       "      <td>10752.000000</td>\n",
       "      <td>10752.000000</td>\n",
       "      <td>10752.000000</td>\n",
       "      <td>10752.000000</td>\n",
       "      <td>10752.000000</td>\n",
       "      <td>10752.000000</td>\n",
       "      <td>...</td>\n",
       "      <td>10752.000000</td>\n",
       "      <td>10752.000000</td>\n",
       "      <td>10752.000000</td>\n",
       "      <td>10752.000000</td>\n",
       "      <td>10752.000000</td>\n",
       "      <td>10752.000000</td>\n",
       "      <td>10752.000000</td>\n",
       "      <td>10752.000000</td>\n",
       "      <td>10752.000000</td>\n",
       "      <td>10752.000000</td>\n",
       "    </tr>\n",
       "    <tr>\n",
       "      <th>mean</th>\n",
       "      <td>0.979279</td>\n",
       "      <td>0.977036</td>\n",
       "      <td>0.972997</td>\n",
       "      <td>0.965795</td>\n",
       "      <td>0.956058</td>\n",
       "      <td>0.946609</td>\n",
       "      <td>0.938161</td>\n",
       "      <td>0.930047</td>\n",
       "      <td>0.922546</td>\n",
       "      <td>0.914766</td>\n",
       "      <td>...</td>\n",
       "      <td>0.936903</td>\n",
       "      <td>0.943581</td>\n",
       "      <td>0.951833</td>\n",
       "      <td>0.961342</td>\n",
       "      <td>0.966297</td>\n",
       "      <td>0.970557</td>\n",
       "      <td>0.971949</td>\n",
       "      <td>0.677502</td>\n",
       "      <td>0.074303</td>\n",
       "      <td>8.117898</td>\n",
       "    </tr>\n",
       "    <tr>\n",
       "      <th>std</th>\n",
       "      <td>0.096922</td>\n",
       "      <td>0.098681</td>\n",
       "      <td>0.099546</td>\n",
       "      <td>0.102380</td>\n",
       "      <td>0.106950</td>\n",
       "      <td>0.113165</td>\n",
       "      <td>0.119380</td>\n",
       "      <td>0.126461</td>\n",
       "      <td>0.132001</td>\n",
       "      <td>0.138568</td>\n",
       "      <td>...</td>\n",
       "      <td>0.118902</td>\n",
       "      <td>0.114981</td>\n",
       "      <td>0.110555</td>\n",
       "      <td>0.106497</td>\n",
       "      <td>0.105424</td>\n",
       "      <td>0.104636</td>\n",
       "      <td>0.105878</td>\n",
       "      <td>0.133997</td>\n",
       "      <td>0.033898</td>\n",
       "      <td>4.244094</td>\n",
       "    </tr>\n",
       "    <tr>\n",
       "      <th>min</th>\n",
       "      <td>0.100000</td>\n",
       "      <td>0.050000</td>\n",
       "      <td>0.070000</td>\n",
       "      <td>0.030000</td>\n",
       "      <td>0.040000</td>\n",
       "      <td>0.000000</td>\n",
       "      <td>0.000000</td>\n",
       "      <td>0.000000</td>\n",
       "      <td>0.000000</td>\n",
       "      <td>0.000000</td>\n",
       "      <td>...</td>\n",
       "      <td>0.000000</td>\n",
       "      <td>0.000000</td>\n",
       "      <td>0.000000</td>\n",
       "      <td>0.000000</td>\n",
       "      <td>0.000000</td>\n",
       "      <td>0.010000</td>\n",
       "      <td>0.040000</td>\n",
       "      <td>0.209394</td>\n",
       "      <td>0.001928</td>\n",
       "      <td>0.000000</td>\n",
       "    </tr>\n",
       "    <tr>\n",
       "      <th>25%</th>\n",
       "      <td>1.000000</td>\n",
       "      <td>1.000000</td>\n",
       "      <td>1.000000</td>\n",
       "      <td>0.990000</td>\n",
       "      <td>0.960000</td>\n",
       "      <td>0.940000</td>\n",
       "      <td>0.930000</td>\n",
       "      <td>0.916667</td>\n",
       "      <td>0.900000</td>\n",
       "      <td>0.880000</td>\n",
       "      <td>...</td>\n",
       "      <td>0.920000</td>\n",
       "      <td>0.940000</td>\n",
       "      <td>0.950000</td>\n",
       "      <td>0.980000</td>\n",
       "      <td>1.000000</td>\n",
       "      <td>1.000000</td>\n",
       "      <td>1.000000</td>\n",
       "      <td>0.582888</td>\n",
       "      <td>0.049183</td>\n",
       "      <td>5.740000</td>\n",
       "    </tr>\n",
       "    <tr>\n",
       "      <th>50%</th>\n",
       "      <td>1.000000</td>\n",
       "      <td>1.000000</td>\n",
       "      <td>1.000000</td>\n",
       "      <td>1.000000</td>\n",
       "      <td>1.000000</td>\n",
       "      <td>1.000000</td>\n",
       "      <td>1.000000</td>\n",
       "      <td>1.000000</td>\n",
       "      <td>1.000000</td>\n",
       "      <td>1.000000</td>\n",
       "      <td>...</td>\n",
       "      <td>1.000000</td>\n",
       "      <td>1.000000</td>\n",
       "      <td>1.000000</td>\n",
       "      <td>1.000000</td>\n",
       "      <td>1.000000</td>\n",
       "      <td>1.000000</td>\n",
       "      <td>1.000000</td>\n",
       "      <td>0.694925</td>\n",
       "      <td>0.068188</td>\n",
       "      <td>6.720000</td>\n",
       "    </tr>\n",
       "    <tr>\n",
       "      <th>75%</th>\n",
       "      <td>1.000000</td>\n",
       "      <td>1.000000</td>\n",
       "      <td>1.000000</td>\n",
       "      <td>1.000000</td>\n",
       "      <td>1.000000</td>\n",
       "      <td>1.000000</td>\n",
       "      <td>1.000000</td>\n",
       "      <td>1.000000</td>\n",
       "      <td>1.000000</td>\n",
       "      <td>1.000000</td>\n",
       "      <td>...</td>\n",
       "      <td>1.000000</td>\n",
       "      <td>1.000000</td>\n",
       "      <td>1.000000</td>\n",
       "      <td>1.000000</td>\n",
       "      <td>1.000000</td>\n",
       "      <td>1.000000</td>\n",
       "      <td>1.000000</td>\n",
       "      <td>0.782364</td>\n",
       "      <td>0.094579</td>\n",
       "      <td>9.102500</td>\n",
       "    </tr>\n",
       "    <tr>\n",
       "      <th>max</th>\n",
       "      <td>1.000000</td>\n",
       "      <td>1.000000</td>\n",
       "      <td>1.000000</td>\n",
       "      <td>1.000000</td>\n",
       "      <td>1.000000</td>\n",
       "      <td>1.000000</td>\n",
       "      <td>1.000000</td>\n",
       "      <td>1.000000</td>\n",
       "      <td>1.000000</td>\n",
       "      <td>1.000000</td>\n",
       "      <td>...</td>\n",
       "      <td>1.000000</td>\n",
       "      <td>1.000000</td>\n",
       "      <td>1.000000</td>\n",
       "      <td>1.000000</td>\n",
       "      <td>1.000000</td>\n",
       "      <td>1.000000</td>\n",
       "      <td>1.000000</td>\n",
       "      <td>0.969234</td>\n",
       "      <td>0.214556</td>\n",
       "      <td>31.030000</td>\n",
       "    </tr>\n",
       "  </tbody>\n",
       "</table>\n",
       "<p>8 rows × 203 columns</p>\n",
       "</div>"
      ],
      "text/plain": [
       "       sum_axis_0_0  sum_axis_0_1  sum_axis_0_2  sum_axis_0_3  sum_axis_0_4  \\\n",
       "count  10752.000000  10752.000000  10752.000000  10752.000000  10752.000000   \n",
       "mean       0.979279      0.977036      0.972997      0.965795      0.956058   \n",
       "std        0.096922      0.098681      0.099546      0.102380      0.106950   \n",
       "min        0.100000      0.050000      0.070000      0.030000      0.040000   \n",
       "25%        1.000000      1.000000      1.000000      0.990000      0.960000   \n",
       "50%        1.000000      1.000000      1.000000      1.000000      1.000000   \n",
       "75%        1.000000      1.000000      1.000000      1.000000      1.000000   \n",
       "max        1.000000      1.000000      1.000000      1.000000      1.000000   \n",
       "\n",
       "       sum_axis_0_5  sum_axis_0_6  sum_axis_0_7  sum_axis_0_8  sum_axis_0_9  \\\n",
       "count  10752.000000  10752.000000  10752.000000  10752.000000  10752.000000   \n",
       "mean       0.946609      0.938161      0.930047      0.922546      0.914766   \n",
       "std        0.113165      0.119380      0.126461      0.132001      0.138568   \n",
       "min        0.000000      0.000000      0.000000      0.000000      0.000000   \n",
       "25%        0.940000      0.930000      0.916667      0.900000      0.880000   \n",
       "50%        1.000000      1.000000      1.000000      1.000000      1.000000   \n",
       "75%        1.000000      1.000000      1.000000      1.000000      1.000000   \n",
       "max        1.000000      1.000000      1.000000      1.000000      1.000000   \n",
       "\n",
       "       ...  sum_axis_1_93  sum_axis_1_94  sum_axis_1_95  sum_axis_1_96  \\\n",
       "count  ...   10752.000000   10752.000000   10752.000000   10752.000000   \n",
       "mean   ...       0.936903       0.943581       0.951833       0.961342   \n",
       "std    ...       0.118902       0.114981       0.110555       0.106497   \n",
       "min    ...       0.000000       0.000000       0.000000       0.000000   \n",
       "25%    ...       0.920000       0.940000       0.950000       0.980000   \n",
       "50%    ...       1.000000       1.000000       1.000000       1.000000   \n",
       "75%    ...       1.000000       1.000000       1.000000       1.000000   \n",
       "max    ...       1.000000       1.000000       1.000000       1.000000   \n",
       "\n",
       "       sum_axis_1_97  sum_axis_1_98  sum_axis_1_99          mean  \\\n",
       "count   10752.000000   10752.000000   10752.000000  10752.000000   \n",
       "mean        0.966297       0.970557       0.971949      0.677502   \n",
       "std         0.105424       0.104636       0.105878      0.133997   \n",
       "min         0.000000       0.010000       0.040000      0.209394   \n",
       "25%         1.000000       1.000000       1.000000      0.582888   \n",
       "50%         1.000000       1.000000       1.000000      0.694925   \n",
       "75%         1.000000       1.000000       1.000000      0.782364   \n",
       "max         1.000000       1.000000       1.000000      0.969234   \n",
       "\n",
       "           variance  outline_length  \n",
       "count  10752.000000    10752.000000  \n",
       "mean       0.074303        8.117898  \n",
       "std        0.033898        4.244094  \n",
       "min        0.001928        0.000000  \n",
       "25%        0.049183        5.740000  \n",
       "50%        0.068188        6.720000  \n",
       "75%        0.094579        9.102500  \n",
       "max        0.214556       31.030000  \n",
       "\n",
       "[8 rows x 203 columns]"
      ]
     },
     "execution_count": 6,
     "metadata": {},
     "output_type": "execute_result"
    }
   ],
   "source": [
    "data.describe() "
   ]
  },
  {
   "cell_type": "code",
   "execution_count": 7,
   "metadata": {},
   "outputs": [
    {
     "data": {
      "image/png": "[encoded data removed]",
      "text/plain": [
       "<Figure size 720x720 with 6 Axes>"
      ]
     },
     "metadata": {},
     "output_type": "display_data"
    }
   ],
   "source": [
    "data[['sum_axis_0_50','sum_axis_1_50','mean','variance', 'outline_length']].hist(figsize=(10, 10), bins=50, layout=(3, 2));"
   ]
  },
  {
   "cell_type": "code",
   "execution_count": 8,
   "metadata": {},
   "outputs": [
    {
     "data": {
      "image/png": "[encoded data removed]",
      "text/plain": [
       "<Figure size 1080x576 with 2 Axes>"
      ]
     },
     "metadata": {},
     "output_type": "display_data"
    }
   ],
   "source": [
    "from sklearn import preprocessing\n",
    "data_target = data.copy()\n",
    "le = preprocessing.LabelEncoder()\n",
    "data_target.target = le.fit_transform(data_target.target.values)\n",
    "fig = plt.figure(figsize=(15,8))\n",
    "sns.heatmap(data_target[['sum_axis_0_50','sum_axis_1_50','mean','variance','outline_length','target']].corr(), annot = True)\n",
    "plt.title('Correlation_matrix')\n",
    "plt.show()"
   ]
  },
  {
   "cell_type": "code",
   "execution_count": 9,
   "metadata": {},
   "outputs": [],
   "source": [
    "#sns.pairplot(data,hue='target',vars=['sum_axis_0_50','sum_axis_1_50','mean','variance','outline_length'])\n",
    "#plt.show()"
   ]
  },
  {
   "cell_type": "markdown",
   "metadata": {},
   "source": [
    "<div style=\"background:#FFFFAA\">\n",
    "<h1>Step 2: Building a predictive model</h1>\n",
    "</div>"
   ]
  },
  {
   "cell_type": "markdown",
   "metadata": {},
   "source": [
    "<div style=\"background:#FFFFAA\">\n",
    "    <h2>Loading data with DataManager</h2>\n",
    "    <p>\n",
    "We reload the data with the AutoML DataManager class because this is more convenient:\n",
    "</div>"
   ]
  },
  {
   "cell_type": "code",
   "execution_count": 10,
   "metadata": {},
   "outputs": [
    {
     "name": "stdout",
     "output_type": "stream",
     "text": [
      "Info file found : /home/jerome/jserv/cours/OCEAN/starting_kit/public_data/plankton_public.info\n",
      "DataManager : plankton\n",
      "info:\n",
      "\tusage = Sample dataset plankton data\n",
      "\tname = plankton\n",
      "\ttask = multiclass.classification\n",
      "\ttarget_type = Numerical\n",
      "\tfeat_type = Numerical\n",
      "\tmetric = bac_metric\n",
      "\ttime_budget = 1200\n",
      "\tfeat_num = 202\n",
      "\ttarget_num = 7\n",
      "\tlabel_num = 7\n",
      "\ttrain_num = 10752\n",
      "\tvalid_num = 3584\n",
      "\ttest_num = 3584\n",
      "\thas_categorical = 0\n",
      "\thas_missing = 0\n",
      "\tis_sparse = 0\n",
      "\tformat = dense\n",
      "data:\n",
      "\tX_train = array(10752, 203)\n",
      "\tY_train = array(10752, 1)\n",
      "\tX_valid = array(3584, 203)\n",
      "\tY_valid = array(0,)\n",
      "\tX_test = array(3584, 203)\n",
      "\tY_test = array(0,)\n",
      "feat_type:\tarray(202,)\n",
      "feat_idx:\tarray(0,)\n",
      "\n"
     ]
    }
   ],
   "source": [
    "from data_manager import DataManager\n",
    "D = DataManager(data_name, data_dir, replace_missing=True)\n",
    "print(D)"
   ]
  },
  {
   "cell_type": "markdown",
   "metadata": {},
   "source": [
    "## Feature Selection [SelectKBest](https://scikit-learn.org/stable/modules/generated/sklearn.feature_selection.SelectKBest.html)"
   ]
  },
  {
   "cell_type": "code",
   "execution_count": 11,
   "metadata": {},
   "outputs": [
    {
     "name": "stdout",
     "output_type": "stream",
     "text": [
      "(10752, 150)\n",
      "(3584, 150)\n",
      "(3584, 150)\n"
     ]
    }
   ],
   "source": [
    "import numpy as np\n",
    "from sklearn.feature_selection import SelectKBest\n",
    "from sklearn.feature_selection import chi2\n",
    "\n",
    "feature_selection = SelectKBest(chi2, k=150).fit(D.data['X_train'], D.data['Y_train'])\n",
    "\n",
    "D.data['X_train'] = feature_selection.transform(D.data['X_train'])\n",
    "D.data['X_valid'] = feature_selection.transform(D.data['X_valid'])\n",
    "D.data['X_test'] = feature_selection.transform(D.data['X_test'])\n",
    "\n",
    "print(D.data['X_train'].shape)\n",
    "print(D.data['X_valid'].shape)\n",
    "print(D.data['X_test'].shape)"
   ]
  },
  {
   "cell_type": "markdown",
   "metadata": {},
   "source": [
    "## [PCA](https://scikit-learn.org/stable/modules/generated/sklearn.decomposition.PCA.html)"
   ]
  },
  {
   "cell_type": "code",
   "execution_count": 12,
   "metadata": {},
   "outputs": [
    {
     "name": "stdout",
     "output_type": "stream",
     "text": [
      "(10752, 70)\n",
      "(3584, 70)\n",
      "(3584, 70)\n"
     ]
    }
   ],
   "source": [
    "from sklearn.decomposition import PCA\n",
    "pca = PCA(n_components=70).fit(D.data['X_train'], D.data['Y_train'])\n",
    "\n",
    "D.data['X_train'] = pca.transform(D.data['X_train'])\n",
    "D.data['X_valid'] = pca.transform(D.data['X_valid'])\n",
    "D.data['X_test'] = pca.transform(D.data['X_test'])\n",
    "\n",
    "print(D.data['X_train'].shape)\n",
    "print(D.data['X_valid'].shape)\n",
    "print(D.data['X_test'].shape)"
   ]
  },
  {
   "cell_type": "markdown",
   "metadata": {},
   "source": [
    "## Outliners [LocalOutlierFactor](https://scikit-learn.org/stable/modules/generated/sklearn.neighbors.LocalOutlierFactor.html#sklearn.neighbors.LocalOutlierFactor)"
   ]
  },
  {
   "cell_type": "code",
   "execution_count": 13,
   "metadata": {},
   "outputs": [
    {
     "data": {
      "text/plain": [
       "array([1, 1, 1, ..., 1, 1, 1])"
      ]
     },
     "execution_count": 13,
     "metadata": {},
     "output_type": "execute_result"
    }
   ],
   "source": [
    "import numpy as np\n",
    "from sklearn.neighbors import LocalOutlierFactor\n",
    "X = D.data['X_train']\n",
    "clf = LocalOutlierFactor(n_neighbors=7)\n",
    "clf.fit_predict(X)"
   ]
  },
  {
   "cell_type": "code",
   "execution_count": 14,
   "metadata": {
    "scrolled": false
   },
   "outputs": [
    {
     "name": "stdout",
     "output_type": "stream",
     "text": [
      "[-1.02388026 -1.01757181 -0.97689382 ... -1.10842952 -1.04753763\n",
      " -1.00780271]\n",
      "max is  -0.9160152852303121\n",
      "min is  -21.862782552212504\n"
     ]
    },
    {
     "data": {
      "text/plain": [
       "Text(0, 0.5, 'outliners')"
      ]
     },
     "execution_count": 14,
     "metadata": {},
     "output_type": "execute_result"
    },
    {
     "data": {
      "image/png": "[encoded data removed]",
      "text/plain": [
       "<Figure size 1080x1080 with 1 Axes>"
      ]
     },
     "metadata": {},
     "output_type": "display_data"
    }
   ],
   "source": [
    "import matplotlib.pyplot as plt\n",
    "\n",
    "print(clf.negative_outlier_factor_)\n",
    "print(\"max is \", max(clf.negative_outlier_factor_))\n",
    "print(\"min is \", min(clf.negative_outlier_factor_))\n",
    "\n",
    "threshold = -1.7\n",
    "\n",
    "fig, ax = plt.subplots(1,1, figsize=(15,15))\n",
    "ax.plot(clf.negative_outlier_factor_,'b.' , label=\"data\")\n",
    "ax.plot(threshold*np.ones(X.shape[0]),'r' ,label=\"threshold= {}\".format(threshold))\n",
    "ax.legend()\n",
    "ax.set_title(\"Representation of all points with outliners (under the threshold)\")\n",
    "ax.set_xlabel(\"data\")\n",
    "ax.set_ylabel(\"outliners\")\n"
   ]
  },
  {
   "cell_type": "code",
   "execution_count": 15,
   "metadata": {},
   "outputs": [
    {
     "name": "stdout",
     "output_type": "stream",
     "text": [
      "(10752, 70)\n",
      "(10752, 1)\n",
      "(10567, 70)\n",
      "(10567, 1)\n"
     ]
    }
   ],
   "source": [
    "# save all indexes where clf.negative_outlier_factor_ is under the threshold\n",
    "arr = clf.negative_outlier_factor_.copy()\n",
    "idxToDelete = []\n",
    "for i in range(0, len(arr)):\n",
    "    if (arr[i]) < threshold :\n",
    "        idxToDelete += [i]\n",
    "\n",
    "# delete the outliners on X and Y\n",
    "\n",
    "print(D.data['X_train'].shape)\n",
    "print(D.data['Y_train'].shape)\n",
    "\n",
    "D.data['X_train'] = np.delete(D.data['X_train'], idxToDelete, axis=0)\n",
    "D.data['Y_train'] = np.delete(D.data['Y_train'], idxToDelete, axis=0)\n",
    "\n",
    "print(D.data['X_train'].shape)\n",
    "print(D.data['Y_train'].shape)"
   ]
  },
  {
   "cell_type": "markdown",
   "metadata": {},
   "source": [
    "<div style=\"background:#FFFFAA\">\n",
    "    <h2>Training a predictive model</h2>\n",
    "    <p>\n",
    "We provide an example of predictive model (for classification or regression) in the `sample_code_submission/` directory. It is a quite stupid model: it makes constant predictions. Replace it with your own model.\n",
    "    </div>"
   ]
  },
  {
   "cell_type": "code",
   "execution_count": 16,
   "metadata": {},
   "outputs": [],
   "source": [
    "from data_io import write\n",
    "from model import model"
   ]
  },
  {
   "cell_type": "markdown",
   "metadata": {},
   "source": [
    "<div style=\"background:#FFFFAA\">\n",
    "an instance of the model (run the constructor) and attempt to reload a previously saved version from `sample_code_submission/`:\n",
    "    \n",
    "</div>"
   ]
  },
  {
   "cell_type": "code",
   "execution_count": 17,
   "metadata": {},
   "outputs": [],
   "source": [
    "# uncomment the desired model\n",
    "\n",
    "# Decision tree model\n",
    "from sklearn.tree import DecisionTreeClassifier\n",
    "M = model(classifier=DecisionTreeClassifier(max_depth=10, max_features = 'sqrt', random_state=42))\n",
    "\n",
    "trained_model_name = model_dir + data_name\n",
    "\n",
    "# Uncomment the next line to re-load an already trained model\n",
    "#M = model()\n",
    "#M = M.load(trained_model_name)                  "
   ]
  },
  {
   "cell_type": "markdown",
   "metadata": {},
   "source": [
    "<div style=\"background:#FFFFAA\">\n",
    "    Train the model (unless you reloaded a trained model) and make predictions. \n",
    "</div>"
   ]
  },
  {
   "cell_type": "code",
   "execution_count": 18,
   "metadata": {},
   "outputs": [
    {
     "name": "stdout",
     "output_type": "stream",
     "text": [
      "FIT: dim(X)= [10567, 70]\n",
      "FIT: dim(y)= [10567, 1]\n",
      "training\n",
      "PREDICT: dim(X)= [10567, 70]\n",
      "PREDICT: dim(y)= [10567, 1]\n",
      "PREDICT: dim(X)= [3584, 70]\n",
      "PREDICT: dim(y)= [3584, 1]\n",
      "PREDICT: dim(X)= [3584, 70]\n",
      "PREDICT: dim(y)= [3584, 1]\n"
     ]
    }
   ],
   "source": [
    "X_train = D.data['X_train']\n",
    "Y_train = D.data['Y_train']\n",
    "\n",
    "if not(M.is_trained):\n",
    "    M.fit(X_train, Y_train)\n",
    "    print('training')\n",
    "\n",
    "Y_hat_train = M.predict(D.data['X_train']) # Optional, not really needed to test on training examples\n",
    "Y_hat_valid = M.predict(D.data['X_valid'])\n",
    "Y_hat_test = M.predict(D.data['X_test'])"
   ]
  },
  {
   "cell_type": "markdown",
   "metadata": {},
   "source": [
    "<div style=\"background:#FFFFAA\">\n",
    "    <b> Save the trained model </b> (will be ready to reload next time around) and save the prediction results. IMPORTANT: if you save the trained model, it will be bundled with your sample code submission. Therefore your model will NOT be retrained on the challenge platform. Remove the pickle from the submission if you want the model to be retrained on the platform.\n",
    "</div>"
   ]
  },
  {
   "cell_type": "code",
   "execution_count": 19,
   "metadata": {},
   "outputs": [
    {
     "name": "stdout",
     "output_type": "stream",
     "text": [
      "sample_result_submission/plankton_test.predict\r\n",
      "sample_result_submission/plankton_train.predict\r\n",
      "sample_result_submission/plankton_valid.predict\r\n"
     ]
    }
   ],
   "source": [
    "M.save(trained_model_name)                 \n",
    "result_name = result_dir + data_name\n",
    "from data_io import write\n",
    "write(result_name + '_train.predict', Y_hat_train)\n",
    "write(result_name + '_valid.predict', Y_hat_valid)\n",
    "write(result_name + '_test.predict', Y_hat_test)\n",
    "!ls $result_name*"
   ]
  },
  {
   "cell_type": "markdown",
   "metadata": {},
   "source": [
    "<div style=\"background:#FFFFAA\">\n",
    "    <h2>Scoring the results</h2>\n",
    "    <h3>Load the challenge metric</h3>\n",
    "    <p>\n",
    "<b>The metric chosen for your challenge</b> is identified in the \"metric.txt\" file found in the `scoring_function/` directory. The function \"get_metric\" searches first for a metric having that name in my_metric.py, then in libscores.py, then in sklearn.metric.\n",
    "    </div>"
   ]
  },
  {
   "cell_type": "markdown",
   "metadata": {},
   "source": [
    "<div style=\"background:#FFFFAA\">\n",
    "The chosen metric is the balanced accuracy. It computes the proportion of elements correctly predicted for each class. It then returns the mean of these values. The advantage of this metric is that every class is given an equal weight. <br> In our case, since all the classes are perfectly balanced, it is equivalent to simply computing the accuracy score but it the case the test set is changed and is no longer balanced, the balanced accuracy will still work properly while the accuracy score will not.\n",
    "</div>"
   ]
  },
  {
   "cell_type": "code",
   "execution_count": 20,
   "metadata": {},
   "outputs": [
    {
     "name": "stdout",
     "output_type": "stream",
     "text": [
      "Using scoring metric: balanced_accuracy_score\n"
     ]
    }
   ],
   "source": [
    "from libscores import get_metric\n",
    "metric_name, scoring_function = get_metric()\n",
    "print('Using scoring metric:', metric_name)\n",
    "# Uncomment the next line to display the code of the scoring metric\n",
    "#??scoring_function"
   ]
  },
  {
   "cell_type": "markdown",
   "metadata": {},
   "source": [
    "<div style=\"background:#FFFFAA\">\n",
    "    <h3> Training performance </h3>\n",
    "    <p>\n",
    "The participants normally posess target values (labels) only for training examples (except for the sample data). We compute with the `example` metric the training score, which should be zero for perfect predictions.\n",
    "        </div>"
   ]
  },
  {
   "cell_type": "code",
   "execution_count": 21,
   "metadata": {},
   "outputs": [
    {
     "name": "stdout",
     "output_type": "stream",
     "text": [
      "Training score for the balanced_accuracy_score metric = 0.6088\n",
      "Ideal score for the balanced_accuracy_score metric = 1.0000\n"
     ]
    }
   ],
   "source": [
    "print('Training score for the', metric_name, 'metric = %5.4f' % scoring_function(Y_train, Y_hat_train))\n",
    "print('Ideal score for the', metric_name, 'metric = %5.4f' % scoring_function(Y_train, Y_train))"
   ]
  },
  {
   "cell_type": "markdown",
   "metadata": {},
   "source": [
    "You can add here other scores and result visualization."
   ]
  },
  {
   "cell_type": "code",
   "execution_count": 22,
   "metadata": {},
   "outputs": [
    {
     "data": {
      "image/png": "[encoded data removed]",
      "text/plain": [
       "<Figure size 800x800 with 2 Axes>"
      ]
     },
     "metadata": {},
     "output_type": "display_data"
    }
   ],
   "source": [
    "from sklearn.metrics import confusion_matrix\n",
    "import numpy as np\n",
    "import matplotlib.pyplot as plt\n",
    "\n",
    "plt.style.use('default')\n",
    "labels = [\"chaetognatha\",\"copepoda\",\"euphausiids\",\"fish_larvae\",\"limacina\",\"medusae\",\"other\"]\n",
    "cm = confusion_matrix(Y_train, Y_hat_train)\n",
    "cm = cm.astype('float') / cm.sum(axis=1)[:,np.newaxis]\n",
    "fig, ax = plt.subplots(figsize=(8,8))\n",
    "im = ax.imshow(cm, interpolation='nearest',cmap=plt.cm.Blues)\n",
    "ax.figure.colorbar(im, ax=ax)\n",
    "ax.set(xticks=np.arange(cm.shape[1]),yticks=np.arange(cm.shape[0]),xticklabels=labels,yticklabels=labels,title=\"Confusion matrix\",xlabel=\"Predicted label\",ylabel=\"True label\")\n",
    "plt.setp(ax.get_xticklabels(), rotation=45, ha=\"right\", rotation_mode=\"anchor\")\n",
    "fmt = '.2f'\n",
    "thresh = cm.max()/2.\n",
    "for i in range(cm.shape[0]):\n",
    "    for j in range(cm.shape[1]):\n",
    "        ax.text(j, i, format(cm[i, j], fmt),\n",
    "                ha=\"center\", va=\"center\",\n",
    "                color=\"white\" if cm[i, j] > thresh else \"black\")\n",
    "fig.tight_layout()"
   ]
  },
  {
   "cell_type": "markdown",
   "metadata": {},
   "source": [
    "<div style=\"background:#FFFFAA\">\n",
    "    <h3>Cross-validation performance</h3>\n",
    "    <p>\n",
    "The participants do not have access to the labels Y_valid and Y_test to self-assess their validation and test performances. But training performance is not a good prediction of validation or test performance. Using cross-validation, the training data is split into multiple training/test folds, which allows participants to self-assess their model during development. The average CV result and 95% confidence interval is displayed.\n",
    "   </div>"
   ]
  },
  {
   "cell_type": "code",
   "execution_count": 23,
   "metadata": {},
   "outputs": [
    {
     "name": "stdout",
     "output_type": "stream",
     "text": [
      "FIT: dim(X)= [8453, 70]\n",
      "FIT: dim(y)= [8453, 1]\n",
      "PREDICT: dim(X)= [2114, 70]\n",
      "PREDICT: dim(y)= [2114, 1]\n",
      "FIT: dim(X)= [8453, 70]\n",
      "FIT: dim(y)= [8453, 1]\n",
      "PREDICT: dim(X)= [2114, 70]\n",
      "PREDICT: dim(y)= [2114, 1]\n",
      "FIT: dim(X)= [8454, 70]\n",
      "FIT: dim(y)= [8454, 1]\n",
      "PREDICT: dim(X)= [2113, 70]\n",
      "PREDICT: dim(y)= [2113, 1]\n",
      "FIT: dim(X)= [8454, 70]\n",
      "FIT: dim(y)= [8454, 1]\n",
      "PREDICT: dim(X)= [2113, 70]\n",
      "PREDICT: dim(y)= [2113, 1]\n",
      "FIT: dim(X)= [8454, 70]\n",
      "FIT: dim(y)= [8454, 1]\n",
      "PREDICT: dim(X)= [2113, 70]\n",
      "PREDICT: dim(y)= [2113, 1]\n",
      "\n",
      "CV score (95 perc. CI): 0.49 (+/- 0.01)\n"
     ]
    }
   ],
   "source": [
    "from sklearn.metrics import make_scorer\n",
    "from sklearn.model_selection import cross_val_score\n",
    "scores = cross_val_score(M, X_train, Y_train, cv=5, scoring=make_scorer(scoring_function))\n",
    "print('\\nCV score (95 perc. CI): %0.2f (+/- %0.2f)' % (scores.mean(), scores.std() * 2))"
   ]
  },
  {
   "cell_type": "markdown",
   "metadata": {},
   "source": [
    "<div style=\"background:#FFFFAA\">\n",
    "<h1> Step 3: Making a submission </h1> \n",
    "\n",
    "<h2> Unit testing </h2> \n",
    "\n",
    "It is <b><span style=\"color:red\">important that you test your submission files before submitting them</span></b>. All you have to do to make a submission is modify the file <code>model.py</code> in the <code>sample_code_submission/</code> directory, then run this test to make sure everything works fine. This is the actual program that will be run on the server to test your submission. \n",
    "<br>\n",
    "Keep the sample code simple.\n",
    "</div>"
   ]
  },
  {
   "cell_type": "code",
   "execution_count": 24,
   "metadata": {
    "scrolled": true
   },
   "outputs": [
    {
     "name": "stdout",
     "output_type": "stream",
     "text": [
      "/usr/bin/sh: line 0: source: activate: file not found\r\n"
     ]
    }
   ],
   "source": [
    "!source activate python3; python $problem_dir/ingestion.py $data_dir $result_dir $problem_dir $model_dir"
   ]
  },
  {
   "cell_type": "markdown",
   "metadata": {},
   "source": [
    "<div style=\"background:#FFFFAA\">\n",
    "Also test the scoring program:\n",
    "    </div>"
   ]
  },
  {
   "cell_type": "code",
   "execution_count": 25,
   "metadata": {},
   "outputs": [
    {
     "name": "stdout",
     "output_type": "stream",
     "text": [
      "/usr/bin/sh: line 0: source: activate: file not found\r\n"
     ]
    }
   ],
   "source": [
    "scoring_output_dir = 'scoring_output'\n",
    "!source activate python3; python $score_dir/score.py $data_dir $result_dir $scoring_output_dir"
   ]
  },
  {
   "cell_type": "markdown",
   "metadata": {
    "collapsed": true
   },
   "source": [
    "<div style=\"background:#FFFFAA\">\n",
    "    <h1> Preparing the submission </h1>\n",
    "\n",
    "Zip the contents of `sample_code_submission/` (without the directory), or download the challenge public_data and run the command in the previous cell, after replacing sample_data by public_data.\n",
    "Then zip the contents of `sample_result_submission/` (without the directory).\n",
    "<b><span style=\"color:red\">Do NOT zip the data with your submissions</span></b>."
   ]
  },
  {
   "cell_type": "code",
   "execution_count": 26,
   "metadata": {},
   "outputs": [
    {
     "name": "stdout",
     "output_type": "stream",
     "text": [
      "Submit one of these files:\n",
      "./sample_code_submission_20-02-21-19-25.zip\n",
      "./sample_result_submission_20-02-21-19-25.zip\n"
     ]
    }
   ],
   "source": [
    "import datetime \n",
    "from data_io import zipdir\n",
    "the_date = datetime.datetime.now().strftime(\"%y-%m-%d-%H-%M\")\n",
    "sample_code_submission = './sample_code_submission_' + the_date + '.zip'\n",
    "sample_result_submission = './sample_result_submission_' + the_date + '.zip'\n",
    "zipdir(sample_code_submission, model_dir)\n",
    "zipdir(sample_result_submission, result_dir)\n",
    "print(\"Submit one of these files:\\n\" + sample_code_submission + \"\\n\" + sample_result_submission)"
   ]
  },
  {
   "cell_type": "code",
   "execution_count": null,
   "metadata": {},
   "outputs": [],
   "source": []
  }
 ],
 "metadata": {
  "kernelspec": {
   "display_name": "Python 3",
   "language": "python",
   "name": "python3"
  },
  "language_info": {
   "codemirror_mode": {
    "name": "ipython",
    "version": 3
   },
   "file_extension": ".py",
   "mimetype": "text/x-python",
   "name": "python",
   "nbconvert_exporter": "python",
   "pygments_lexer": "ipython3",
   "version": "3.8.1"
  }
 },
 "nbformat": 4,
 "nbformat_minor": 1
}
