{
 "cells": [
  {
   "cell_type": "markdown",
   "metadata": {},
   "source": [
    "<div style=\"background:#a8eced\">\n",
    "    <h1>Team OCEAN- Visualisation</h1>\n",
    "    <h3>Michel Dit Ferrer Paul, Bournet Raphaël, Coquisart Jérôme, Garcia Pierre, Dahalani Luqman, Marchment George</h3>\n",
    "    <h2>Plankton classification challenge</h2>\n",
    "<a href=\"https://github.com/George-Marchment/OCEAN\">Link to our Github</a>\n",
    "</center>\n",
    "</div>"
   ]
  },
  {
   "cell_type": "markdown",
   "metadata": {},
   "source": [
    "<div style=\"background:#f3f47b\">\n",
    "    <h1>\n",
    "<h1> This is preliminary code\n",
    "    <h1>\n",
    "</div>"
   ]
  },
  {
   "cell_type": "code",
   "execution_count": 1,
   "metadata": {},
   "outputs": [],
   "source": [
    "model_dir = 'sample_code_submission/'                        # Change the model to a better one once you have one!\n",
    "result_dir = 'sample_result_submission/' \n",
    "problem_dir = 'ingestion_program/'  \n",
    "score_dir = 'scoring_program/'\n",
    "from sys import path; path.append(model_dir); path.append(problem_dir); path.append(score_dir); \n",
    "%matplotlib inline\n",
    "# Uncomment the next lines to auto-reload libraries (this causes some problem with pickles in Python 3)\n",
    "%load_ext autoreload\n",
    "%autoreload 2\n",
    "import seaborn as sns; sns.set()\n",
    "import warnings\n",
    "warnings.simplefilter(action='ignore', category=FutureWarning)\n",
    "import matplotlib.pyplot as plt\n",
    "import pandas as pd\n",
    "import sklearn\n",
    "#data_dir = 'sample_data'              # Change this to the directory where you put the input data\n",
    "data_dir = './public_data'          # The sample_data directory should contain only a very small subset of the data\n",
    "data_name = 'plankton'\n",
    "!ls $data_dir*\n",
    "from data_io import read_as_df\n",
    "data = read_as_df(data_dir  + '/' + data_name)                # The data are loaded as a Pandas Data Frame\n",
    "from sklearn import preprocessing\n",
    "data_target = data.copy()\n",
    "le = preprocessing.LabelEncoder()\n",
    "data_target.target = le.fit_transform(data_target.target.values)"
   ]
  },
  {
   "cell_type": "markdown",
   "metadata": {},
   "source": [
    "<div style=\"background:#f3f47b\">\n",
    "    <h1>\n",
    "<h1> The goal of this section is to find different patterns in the data to be able to better identify the different  plankton\n",
    "    <h1>\n",
    "</div>"
   ]
  },
  {
   "cell_type": "markdown",
   "metadata": {},
   "source": [
    "<div style=\"background:#f36864\">\n",
    "\n",
    "<h1>\n",
    "We cannot conclude anything from this function/ code, we will still leave it as a comment\n",
    "\n",
    "</div>"
   ]
  },
  {
   "cell_type": "code",
   "execution_count": 6,
   "metadata": {},
   "outputs": [],
   "source": [
    "def valueEnFonctionTarget(value, target):\n",
    "    import numpy as np\n",
    "    valeur=0\n",
    "    if value== 'mean':\n",
    "        valeur=200\n",
    "    if value== 'variance':\n",
    "        valeur=201\n",
    "    if value== 'outline_length':\n",
    "        valeur=202\n",
    "    \n",
    "    tab_other=[]\n",
    "    for i in thing:\n",
    "        if(i[203]==target):\n",
    "            tab_other.append(i)\n",
    "    \n",
    "    mean_other=[]\n",
    "    for i in tab_other:\n",
    "        mean_other.append(i[valeur])\n",
    "    tab= np.linspace(1, len(mean_other), len(mean_other))\n",
    "\n",
    "\n",
    "    fig, ax = plt.subplots()\n",
    "    ax.plot(tab, mean_other)\n",
    "    plt.title(value +' pour les '+target)\n",
    "    \n",
    "    "
   ]
  },
  {
   "cell_type": "code",
   "execution_count": 34,
   "metadata": {},
   "outputs": [
    {
     "data": {
      "text/plain": [
       "\"thing= data.values\\nvalues=['mean', 'varaince', 'outline_length']\\ntargets=['chaetognatha', 'copepoda', 'euphausiids', 'fish_larvae', 'limacina', 'medusae', 'other' ]\\nfor target in targets:\\n    for value in values:\\n        valueEnFonctionTarget(value, target)\""
      ]
     },
     "execution_count": 34,
     "metadata": {},
     "output_type": "execute_result"
    }
   ],
   "source": [
    "\"\"\"thing= data.values\n",
    "values=['mean', 'varaince', 'outline_length']\n",
    "targets=['chaetognatha', 'copepoda', 'euphausiids', 'fish_larvae', 'limacina', 'medusae', 'other' ]\n",
    "for target in targets:\n",
    "    for value in values:\n",
    "        valueEnFonctionTarget(value, target)\"\"\""
   ]
  },
  {
   "cell_type": "markdown",
   "metadata": {},
   "source": [
    "<div style=\"background:#93f189\">\n",
    "<h1>Original Graph<h1>\n",
    "<br>Author: George Team Ocean<br>\n",
    "<br>Last revision Date: 04/04/2020<br>\n",
    "<br>Description: Visualisation des clusters, pour observer des patterns: pour faire cela on utilise KMeans<br>\n",
    "\n",
    "</div>"
   ]
  },
  {
   "cell_type": "code",
   "execution_count": 35,
   "metadata": {},
   "outputs": [],
   "source": [
    "#On doit avoir 0<=x<=202 et 0<=y<=202\n",
    "def kmeansThing(x, y):\n",
    "    import numpy as np\n",
    "    import matplotlib.pyplot as plt\n",
    "    from sklearn.cluster import KMeans\n",
    "    from sklearn.datasets import make_blobs\n",
    "    \n",
    "    test= data.copy()\n",
    "    del test['target']\n",
    "    tab= test.values\n",
    "    names= list(test)\n",
    "\n",
    "    plt.figure(figsize=(12, 12))\n",
    "\n",
    "    y_pred = KMeans(n_clusters=7).fit_predict(tab)\n",
    "    \n",
    "    \n",
    "    #tests\n",
    "    test= data['mean']\n",
    "    assert (len(names)==203), \"Problem names\"\n",
    "    assert (tab.shape==(10752, 203)), \"Problem shape tab\"\n",
    "    assert (tab[:, 200][0]==test[:][0]), \"Problem de Conversion\"\n",
    "\n",
    "\n",
    "    plt.subplot(221)\n",
    "    plt.scatter(tab[:, x], tab[:, y], c=y_pred)\n",
    "    plt.title(names[y]+ ' en fonctin de '+names[x])\n",
    "    plt.xlabel(\"outline_length\")\n",
    "    plt.ylabel(\"mean\")\n",
    "\n",
    "    plt.show()\n",
    "\n",
    "    "
   ]
  },
  {
   "cell_type": "code",
   "execution_count": 36,
   "metadata": {},
   "outputs": [
    {
     "data": {
      "image/png": "[encoded data removed]",
      "text/plain": [
       "<Figure size 864x864 with 1 Axes>"
      ]
     },
     "metadata": {},
     "output_type": "display_data"
    }
   ],
   "source": [
    "kmeansThing(202, 200)"
   ]
  },
  {
   "cell_type": "code",
   "execution_count": 16,
   "metadata": {},
   "outputs": [
    {
     "name": "stdout",
     "output_type": "stream",
     "text": [
      "90.234375\n",
      "7.042253521126767\n"
     ]
    }
   ],
   "source": [
    "#Test pour limacina\n",
    "test= data.copy()\n",
    "tab= test.values\n",
    "tab[0][203]\n",
    "somme=0\n",
    "somme_total=0\n",
    "for i in range(len(tab)):\n",
    "    if(tab[i][202]>4.5 and tab[i][202]<10 and tab[i][200]<0.51 ):\n",
    "        if(tab[i][203]=='limacina'):\n",
    "            somme+=1\n",
    "        #print(tab[i][203])\n",
    "        somme_total+=1\n",
    "print(somme/1536*100)\n",
    "print(100-somme/somme_total*100)"
   ]
  },
  {
   "cell_type": "markdown",
   "metadata": {},
   "source": [
    "<div style=\"background:#93f189\">\n",
    "\n",
    "<h1>\n",
    "Résultats très positifs => on peut déjà identifier 90% des limacina, mais bien sûr il n'ya pas seulement les limacina dans cette intervalle, il ya 93% de limacina dans entre intervalle, donc c'est quelque chose à prendre en compte\n",
    "\n",
    "</div>"
   ]
  },
  {
   "cell_type": "markdown",
   "metadata": {},
   "source": [
    "<div style=\"background:#f3f47b\">\n",
    "    <h1>\n",
    "<h1> Step 2: Building graphs to be able to visualise the results\n",
    "    <h1>\n",
    "</div>"
   ]
  },
  {
   "cell_type": "markdown",
   "metadata": {},
   "source": [
    "<div style=\"background:#f3f47b\">\n",
    "    <h1>\n",
    "<h1> Preliminary code\n",
    "    <h1>\n",
    "</div>"
   ]
  },
  {
   "cell_type": "code",
   "execution_count": 43,
   "metadata": {},
   "outputs": [
    {
     "name": "stdout",
     "output_type": "stream",
     "text": [
      "Info file found : /home/george/Bureau/OCEAN/starting_kit/public_data/plankton_public.info\n"
     ]
    },
    {
     "ename": "TypeError",
     "evalue": "__init__() got an unexpected keyword argument 'classifier'",
     "output_type": "error",
     "traceback": [
      "\u001b[0;31m---------------------------------------------------------------------------\u001b[0m",
      "\u001b[0;31mTypeError\u001b[0m                                 Traceback (most recent call last)",
      "\u001b[0;32m<ipython-input-43-3f2f1903394e>\u001b[0m in \u001b[0;36m<module>\u001b[0;34m()\u001b[0m\n\u001b[1;32m      5\u001b[0m \u001b[0;34m\u001b[0m\u001b[0m\n\u001b[1;32m      6\u001b[0m \u001b[0;32mfrom\u001b[0m \u001b[0msklearn\u001b[0m\u001b[0;34m.\u001b[0m\u001b[0mtree\u001b[0m \u001b[0;32mimport\u001b[0m \u001b[0mDecisionTreeClassifier\u001b[0m\u001b[0;34m\u001b[0m\u001b[0m\n\u001b[0;32m----> 7\u001b[0;31m \u001b[0mM\u001b[0m \u001b[0;34m=\u001b[0m \u001b[0mmodel\u001b[0m\u001b[0;34m(\u001b[0m\u001b[0mclassifier\u001b[0m\u001b[0;34m=\u001b[0m\u001b[0mDecisionTreeClassifier\u001b[0m\u001b[0;34m(\u001b[0m\u001b[0mmax_depth\u001b[0m\u001b[0;34m=\u001b[0m\u001b[0;36m10\u001b[0m\u001b[0;34m,\u001b[0m \u001b[0mmax_features\u001b[0m \u001b[0;34m=\u001b[0m \u001b[0;34m'sqrt'\u001b[0m\u001b[0;34m,\u001b[0m\u001b[0mrandom_state\u001b[0m\u001b[0;34m=\u001b[0m\u001b[0;36m42\u001b[0m\u001b[0;34m)\u001b[0m\u001b[0;34m)\u001b[0m\u001b[0;34m\u001b[0m\u001b[0m\n\u001b[0m\u001b[1;32m      8\u001b[0m \u001b[0;34m\u001b[0m\u001b[0m\n\u001b[1;32m      9\u001b[0m \u001b[0mtrained_model_name\u001b[0m \u001b[0;34m=\u001b[0m \u001b[0mmodel_dir\u001b[0m \u001b[0;34m+\u001b[0m \u001b[0mdata_name\u001b[0m\u001b[0;34m\u001b[0m\u001b[0m\n",
      "\u001b[0;31mTypeError\u001b[0m: __init__() got an unexpected keyword argument 'classifier'"
     ]
    }
   ],
   "source": [
    "from data_manager import DataManager\n",
    "D = DataManager(data_name, data_dir, replace_missing=True)\n",
    "from data_io import write\n",
    "from model import model\n",
    "\n",
    "from sklearn.tree import DecisionTreeClassifier\n",
    "M = model(classifier=DecisionTreeClassifier(max_depth=10, max_features = 'sqrt',random_state=42))\n",
    "\n",
    "trained_model_name = model_dir + data_name\n",
    "X_train = D.data['X_train']\n",
    "Y_train = D.data['Y_train']\n",
    "\n",
    "if not(M.is_trained):\n",
    "    M.fit(X_train, Y_train)\n",
    "    print('training')\n",
    "\n",
    "Y_hat_train = M.predict(D.data['X_train']) # Optional, not really needed to test on training examples\n",
    "Y_hat_valid = M.predict(D.data['X_valid'])\n",
    "Y_hat_test = M.predict(D.data['X_test'])\n",
    "M.save(trained_model_name)                 \n",
    "result_name = result_dir + data_name\n",
    "from data_io import write\n",
    "write(result_name + '_train.predict', Y_hat_train)\n",
    "write(result_name + '_valid.predict', Y_hat_valid)\n",
    "write(result_name + '_test.predict', Y_hat_test)\n",
    "!ls $result_name*"
   ]
  },
  {
   "cell_type": "markdown",
   "metadata": {},
   "source": [
    "<div style=\"background:#93f189\">\n",
    "<h1>Original Graph<h1>\n",
    "<br>Author: Luqman Team Ocean<br>\n",
    "<br>Last revision Date: 04/04/2020<br>\n",
    "\n",
    "</div>"
   ]
  },
  {
   "cell_type": "markdown",
   "metadata": {},
   "source": [
    "<div style=\"background:#93f189\">\n",
    "\n",
    "<h1>\n",
    "Affichage de la surface de decision du classifer\n",
    "Code de départ prit sur:https://scikit-learn.org/0.15/auto_examples/tree/plot_iris.html\n",
    "\n",
    "\n",
    "</div>\n",
    "    "
   ]
  },
  {
   "cell_type": "code",
   "execution_count": null,
   "metadata": {},
   "outputs": [],
   "source": [
    "import numpy as np\n",
    "import matplotlib.pyplot as plt\n",
    "\n",
    "from sklearn.datasets import load_iris\n",
    "from sklearn.tree import DecisionTreeClassifier\n",
    "from sklearn.linear_model import Perceptron\n",
    "\n",
    "\n",
    "# Parameters\n",
    "n_classes = 6\n",
    "plot_colors = \"brygwm\"\n",
    "plot_step = 0.002\n",
    "\n",
    "# Load data\n",
    "\n",
    "\n",
    "for pairidx, pair in enumerate([[1, 1], [1, 2], [1, 3],\n",
    "                                [2, 1], [2, 3], [3, 1]]):\n",
    "   \n",
    "    # We only take the two corresponding features\n",
    "    X1 = X_train[:,[199,200,201,202]]\n",
    "    X = X1[:, pair]\n",
    "    y = Y_train \n",
    "    # Shuffle\n",
    "    idx = np.arange(X.shape[0])\n",
    "    np.random.seed(13)\n",
    "    np.random.shuffle(idx)\n",
    "    X = X[idx]\n",
    "    y = y[idx]\n",
    "\n",
    "    # Standardize\n",
    "    mean = X.mean(axis=0)\n",
    "    std = X.std(axis=0)\n",
    "    X = (X - mean) / std\n",
    "    # Train\n",
    "    clf = Perceptron().fit(X, y)\n",
    "\n",
    "    # Plot the decision boundary\n",
    "    \n",
    "    plt.subplot(2, 3, pairidx + 1)\n",
    "\n",
    "    x_min, x_max = X[:, 0].min() - 1, X[:, 0].max() + 1\n",
    "    y_min, y_max = X[:, 1].min() - 1, X[:, 1].max() + 1\n",
    "    xx, yy = np.meshgrid(np.arange(x_min, x_max, plot_step),\n",
    "                          np.arange(y_min, y_max, plot_step))\n",
    "    \n",
    "    Z = clf.predict(np.c_[xx.ravel(), yy.ravel()])\n",
    "    Z = Z.reshape(xx.shape)\n",
    "    cs = plt.contourf(xx, yy, Z, cmap=plt.cm.Paired)\n",
    "    \n",
    "    values=['sum_axis_1_99','mean' ,'variance' ,'outline_length']\n",
    "    plt.xlabel(values[pair[0]])\n",
    "    plt.ylabel(values[pair[1]])\n",
    "    plt.axis(\"tight\")\n",
    "    targets=['chaetognatha', 'copepoda', 'euphausiids', 'fish_larvae', 'limacina', 'medusae', 'other' ]\n",
    "\n",
    "     # Plot the training points\n",
    "    for i, color in zip(range(n_classes), plot_colors):\n",
    "        idx = np.where(y == i)\n",
    "        plt.scatter(X[idx, 0], X[idx, 1], c=color,label= targets[i],\n",
    "                     cmap=plt.cm.Paired)\n",
    "        \n",
    "   \n",
    "\n",
    "plt.suptitle(\"Graphe sur la   surface de décision du classifer  avec parametre  mean  ,variance ,outline_length \") \n",
    "plt.legend()\n",
    "plt.show()\n"
   ]
  },
  {
   "cell_type": "markdown",
   "metadata": {},
   "source": [
    "Le parametre en abscisse sur  la premiere ligne  est \"mean\""
   ]
  },
  {
   "cell_type": "markdown",
   "metadata": {},
   "source": [
    "<div style=\"background:#93f189\">\n",
    "<h1>Original Graph<h1>\n",
    "<br>Author: George Team Ocean<br>\n",
    "<br>Last revision Date: 04/04/2020<br>\n",
    "<br>Description: The learning curve graphs shows the score (training score and cross-Validation score) of the model as a function of the size of the training set.<br>\n",
    "\n",
    "</div>"
   ]
  },
  {
   "cell_type": "markdown",
   "metadata": {},
   "source": [
    "<div style=\"background:#93f189\">\n",
    "\n",
    "<h1>\n",
    "Affichage du Learning curve\n",
    "Code de départ prit sur: https://scikit-learn.org/stable/auto_examples/model_selection/plot_learning_curve.html#sphx-glr-auto-examples-model-selection-plot-learning-curve-py\n",
    "\n",
    "\n",
    "</div>"
   ]
  },
  {
   "cell_type": "code",
   "execution_count": null,
   "metadata": {},
   "outputs": [],
   "source": [
    "import numpy as np\n",
    "import matplotlib.pyplot as plt\n",
    "from sklearn.naive_bayes import GaussianNB\n",
    "from sklearn.svm import SVC\n",
    "from sklearn.datasets import load_digits\n",
    "from sklearn.model_selection import learning_curve\n",
    "from sklearn.model_selection import ShuffleSplit\n",
    "\n",
    "\n",
    "def plot_learning_curve(estimator, title, X, y, axes=None, ylim=None, cv=None,\n",
    "                        n_jobs=None, train_sizes=np.linspace(.1, 1.0, 5)):\n",
    "   \n",
    "    if axes is None:\n",
    "        _, axes = plt.subplots(1, 3, figsize=(20, 5))\n",
    "\n",
    "    axes[0].set_title(title)\n",
    "    if ylim is not None:\n",
    "        axes[0].set_ylim(*ylim)\n",
    "    axes[0].set_xlabel(\"Training examples\")\n",
    "    axes[0].set_ylabel(\"Score\")\n",
    "\n",
    "    train_sizes, train_scores, test_scores, fit_times, _ = \\\n",
    "        learning_curve(estimator, X, y, cv=cv, n_jobs=n_jobs,\n",
    "                       train_sizes=train_sizes,\n",
    "                       return_times=True)\n",
    "    train_scores_mean = np.mean(train_scores, axis=1)\n",
    "    train_scores_std = np.std(train_scores, axis=1)\n",
    "    test_scores_mean = np.mean(test_scores, axis=1)\n",
    "    test_scores_std = np.std(test_scores, axis=1)\n",
    "    fit_times_mean = np.mean(fit_times, axis=1)\n",
    "    fit_times_std = np.std(fit_times, axis=1)\n",
    "\n",
    "    # Plot learning curve\n",
    "    axes[0].grid(True)\n",
    "    axes[0].fill_between(train_sizes, train_scores_mean - train_scores_std,\n",
    "                         train_scores_mean + train_scores_std, alpha=0.1,\n",
    "                         color=\"r\")\n",
    "    axes[0].fill_between(train_sizes, test_scores_mean - test_scores_std,\n",
    "                         test_scores_mean + test_scores_std, alpha=0.1,\n",
    "                         color=\"g\")\n",
    "    axes[0].plot(train_sizes, train_scores_mean, 'o-', color=\"r\",\n",
    "                 label=\"Training score\")\n",
    "    axes[0].plot(train_sizes, test_scores_mean, 'o-', color=\"g\",\n",
    "                 label=\"Cross-validation score\")\n",
    "    axes[0].legend(loc=\"best\")\n",
    "\n",
    "    # Plot n_samples vs fit_times\n",
    "    axes[1].grid(True)\n",
    "    axes[1].plot(train_sizes, fit_times_mean, 'o-')\n",
    "    axes[1].fill_between(train_sizes, fit_times_mean - fit_times_std,\n",
    "                         fit_times_mean + fit_times_std, alpha=0.1)\n",
    "    axes[1].set_xlabel(\"Training examples\")\n",
    "    axes[1].set_ylabel(\"fit_times\")\n",
    "    axes[1].set_title(\"Scalability of the model\")\n",
    "\n",
    "    # Plot fit_time vs score\n",
    "    axes[2].grid(True)\n",
    "    axes[2].plot(fit_times_mean, test_scores_mean, 'o-')\n",
    "    axes[2].fill_between(fit_times_mean, test_scores_mean - test_scores_std,\n",
    "                         test_scores_mean + test_scores_std, alpha=0.1)\n",
    "    axes[2].set_xlabel(\"fit_times\")\n",
    "    axes[2].set_ylabel(\"Score\")\n",
    "    axes[2].set_title(\"Performance of the model\")\n",
    "\n",
    "    return plt\n",
    "\n",
    "\n",
    "fig, axes = plt.subplots(3, 1, figsize=(6, 18))\n",
    "\n",
    "title = \"Learning Curves (En Fonction du model)\"\n",
    "# Cross validation with 100 iterations to get smoother mean test and train\n",
    "# score curves, each time with 20% data randomly selected as a validation set.\n",
    "cv = ShuffleSplit(n_splits=5, test_size=0.2, random_state=0)\n",
    "\n",
    "#Puique le model utiliser est DecisionTree\n",
    "#A noter qu'il faut changer estimator en fonction du model choissi au-dessus\n",
    "estimator = Perceptron()\n",
    "plot_learning_curve(estimator, title, X_train, Y_train, axes=axes, cv=cv, n_jobs=4)\n",
    "plt.show()"
   ]
  },
  {
   "cell_type": "code",
   "execution_count": null,
   "metadata": {},
   "outputs": [],
   "source": [
    "fig, axes = plt.subplots(3, 1, figsize=(8, 24))\n",
    "\n",
    "title = \"Learning Curves (En Fonction du model)\"\n",
    "# Cross validation with 100 iterations to get smoother mean test and train\n",
    "# score curves, each time with 20% data randomly selected as a validation set.\n",
    "cv = ShuffleSplit(n_splits=5, test_size=0.2, random_state=0)\n",
    "\n",
    "test= np.zeros(len(Y_train))\n",
    "\n",
    "#Puique le model utiliser est DecisionTree\n",
    "#A noter qu'il faut changer estimator en fonction du model choissi au-dessus\n",
    "estimator = sklearn.neighbors.KNeighborsClassifier(n_neighbors=1)\n",
    "plot_learning_curve(estimator, title, X_train, Y_train, axes=axes, cv=cv, n_jobs=4)\n",
    "plt.show()"
   ]
  },
  {
   "cell_type": "markdown",
   "metadata": {},
   "source": [
    "<div style=\"background:#93f189\">\n",
    "\n",
    "<h1>\n",
    "Les courbes en sorti semblent cohérant avec le score pour les données de test au moins\n",
    "</div>"
   ]
  },
  {
   "cell_type": "markdown",
   "metadata": {},
   "source": [
    "<div style=\"background:#93f189\">\n",
    "\n",
    "<h1>\n",
    "Confusion Matrix\n",
    "</div>"
   ]
  },
  {
   "cell_type": "code",
   "execution_count": null,
   "metadata": {},
   "outputs": [],
   "source": [
    "\n",
    "from sklearn.metrics import confusion_matrix\n",
    "import numpy as np\n",
    "import matplotlib.pyplot as plt\n",
    "\n",
    "plt.style.use('default')\n",
    "labels = [\"chaetognatha\",\"copepoda\",\"euphausiids\",\"fish_larvae\",\"limacina\",\"medusae\",\"other\"]\n",
    "cm = confusion_matrix(Y_train, Y_hat_train)\n",
    "cm = cm.astype('float') / cm.sum(axis=1)[:,np.newaxis]\n",
    "fig, ax = plt.subplots(figsize=(8,8))\n",
    "im = ax.imshow(cm, interpolation='nearest',cmap=plt.cm.YlGn)\n",
    "ax.figure.colorbar(im, ax=ax)\n",
    "ax.set(xticks=np.arange(cm.shape[1]),yticks=np.arange(cm.shape[0]),xticklabels=labels,yticklabels=labels,title=\"Confusion matrix\",xlabel=\"Predicted label\",ylabel=\"True label\")\n",
    "plt.setp(ax.get_xticklabels(), rotation=45, ha=\"right\", rotation_mode=\"anchor\")\n",
    "fmt = '.2f'\n",
    "thresh = cm.max()/2.\n",
    "for i in range(cm.shape[0]):\n",
    "    for j in range(cm.shape[1]):\n",
    "        ax.text(j, i, format(cm[i, j], fmt),\n",
    "                ha=\"center\", va=\"center\",\n",
    "                color=\"white\" if cm[i, j] > thresh else \"black\")\n",
    "fig.tight_layout()"
   ]
  }
 ],
 "metadata": {
  "kernelspec": {
   "display_name": "Python 3",
   "language": "python",
   "name": "python3"
  },
  "language_info": {
   "codemirror_mode": {
    "name": "ipython",
    "version": 3
   },
   "file_extension": ".py",
   "mimetype": "text/x-python",
   "name": "python",
   "nbconvert_exporter": "python",
   "pygments_lexer": "ipython3",
   "version": "3.6.5"
  }
 },
 "nbformat": 4,
 "nbformat_minor": 1
}
