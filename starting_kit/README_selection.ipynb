{
 "cells": [
  {
   "cell_type": "markdown",
   "metadata": {},
   "source": [
    "<div style=\"background:#FFFFAA\">\n",
    "<img src=\"logo.jpg\", width=150, ALIGN=\"left\", border=20>\n",
    "    <h1>Team GAIASAVERS</h1>\n",
    "    <h3>Alban Petit, Wafa Bouzouita,Timothée Babinet, Maxime Chor, Eric Wang, Sebastien Warichet</h3>\n",
    "    <h2>Plankton classification challenge</h2>\n",
    "\n",
    "<br>This code was tested with <br>\n",
    "Python 3.7 |Anaconda custom (64-bit)| (default, Jun 28 2018, 11:07:29) (https://anaconda.org/)<br>\n",
    "<i> Adapted for Chalab by Isabelle Guyon from original code of Balázs Kégl</i> <br>\n",
    "<a href=\"http://www.datascience-paris-saclay.fr\">Paris Saclay Center for Data Science (CDS)</a>\n",
    "</center>\n",
    "<p>\n",
    "ALL INFORMATION, SOFTWARE, DOCUMENTATION, AND DATA ARE PROVIDED \"AS-IS\". The CDS, CHALEARN, AND/OR OTHER ORGANIZERS OR CODE AUTHORS DISCLAIM ANY EXPRESSED OR IMPLIED WARRANTIES, INCLUDING, BUT NOT LIMITED TO, THE IMPLIED WARRANTIES OF MERCHANTABILITY AND FITNESS FOR ANY PARTICULAR PURPOSE, AND THE WARRANTY OF NON-INFRIGEMENT OF ANY THIRD PARTY'S INTELLECTUAL PROPERTY RIGHTS. IN NO EVENT SHALL AUTHORS AND ORGANIZERS BE LIABLE FOR ANY SPECIAL, \n",
    "INDIRECT OR CONSEQUENTIAL DAMAGES OR ANY DAMAGES WHATSOEVER ARISING OUT OF OR IN CONNECTION WITH THE USE OR PERFORMANCE OF SOFTWARE, DOCUMENTS, MATERIALS, PUBLICATIONS, OR INFORMATION MADE AVAILABLE FOR THE CHALLENGE. \n",
    "</div>"
   ]
  },
  {
   "cell_type": "markdown",
   "metadata": {},
   "source": [
    "<div style=\"background:#FFFFAA\">\n",
    "    <h2>Introduction </h2>\n",
    "     <br>\n",
    "       \n",
    "According to [NRMA15], a link has been found between the quality of water and the presence of plankton in said water. As water quality increases, the abundance and diversity of plankton does as well. The aim of our project is to build a plankton classifier to assess water quality.\n",
    "\n",
    "We use for this problem the Bering Sea dataset, an in situ plankton dataset published in May 2019 by Kaichang Cheng [Che19]. This datset contains 7 classes with an even spread.\n",
    "\n",
    "        \n",
    "References and credits: \n",
    "- [NRMA15] A. Nair, J.K. Reshma, A. Mathew, and A. Ashok. Effect of water quality on phytoplankton abundance in selected ponds of nedumangad block panchayat, kerala. Emer Life Sci Res, 2015.\n",
    "- [Che19] K. Cheng. Bering sea dataset. https://doi.org/10.6084/m9.figshare.8146283.v3, 2019.\n",
    " <br>\n",
    "</div>"
   ]
  },
  {
   "cell_type": "markdown",
   "metadata": {},
   "source": [
    "<img src=\"images/sample.png\" alt=\"Drawing\"/>\n",
    "To see more images for each class, see the \"images\" folder."
   ]
  },
  {
   "cell_type": "code",
   "execution_count": 1,
   "metadata": {},
   "outputs": [],
   "source": [
    "model_dir = 'sample_code_submission/'                        # Change the model to a better one once you have one!\n",
    "result_dir = 'sample_result_submission/' \n",
    "problem_dir = 'ingestion_program/'  \n",
    "score_dir = 'scoring_program/'\n",
    "from sys import path; path.append(model_dir); path.append(problem_dir); path.append(score_dir); \n",
    "%matplotlib inline\n",
    "# Uncomment the next lines to auto-reload libraries (this causes some problem with pickles in Python 3)\n",
    "%load_ext autoreload\n",
    "%autoreload 2\n",
    "import seaborn as sns; sns.set()\n",
    "import warnings\n",
    "warnings.simplefilter(action='ignore', category=FutureWarning)\n",
    "import matplotlib.pyplot as plt\n",
    "import pandas as pd\n",
    "import numpy as np"
   ]
  },
  {
   "cell_type": "markdown",
   "metadata": {},
   "source": [
    "<div style=\"background:#FFFFAA\">\n",
    "    <h1> Step 1: Exploratory data analysis </h1>\n",
    "<p>\n",
    "We provide sample_data with the starting kit, but to prepare your submission, you must fetch the public_data from the challenge website and point to it.\n",
    "    <br>\n",
    "    <span style=\"color:red\"> Just change the data name in the block below. In the rest of the section, replace the sample plots by anything you want. </span>\n",
    "</div>"
   ]
  },
  {
   "cell_type": "code",
   "execution_count": 2,
   "metadata": {},
   "outputs": [
    {
     "name": "stdout",
     "output_type": "stream",
     "text": [
      "plankton_feat.name    plankton_test.data       plankton_valid.data\r\n",
      "plankton_label.name   plankton_train.data\r\n",
      "plankton_public.info  plankton_train.solution\r\n"
     ]
    }
   ],
   "source": [
    "#data_dir = 'sample_data'              # Change this to the directory where you put the input data\n",
    "data_dir = './public_data'          # The sample_data directory should contain only a very small subset of the data\n",
    "data_name = 'plankton'\n",
    "!ls $data_dir*"
   ]
  },
  {
   "cell_type": "markdown",
   "metadata": {},
   "source": [
    "<h3>Two \"feature representation\"</h3>\n",
    "\n",
    "<p>\n",
    "1.\n",
    "All of the images are in various shades of gray. As such, we can represent every image by a vector of 90000 (300x300) features where each feature is a float value between 0 and 255 representing the brightness of a pixel (0 being a black pixel and 255 a white one). It is also possible to reduce the size of the images to reduce the number of features as seen in figure 3 where we reduced the size to 100x100 pixels.\n",
    "</p>"
   ]
  },
  {
   "cell_type": "markdown",
   "metadata": {},
   "source": [
    "<tr>\n",
    "    <td> <img src=\"images/gray.png\" alt=\"Drawing\" style=\"width: 250px;\"/> </td>\n",
    "    <td> <img src=\"images/binarized.png\" alt=\"Drawing\" style=\"width: 250px;\"/> </td>\n",
    "</tr>\n"
   ]
  },
  {
   "cell_type": "markdown",
   "metadata": {},
   "source": [
    "<p>\n",
    "2. At first we will have four types of \"features\". Two \"features\" are applied on the binarized images.\n",
    "    <ul>\n",
    "        <li>The first is a sum of black pixels, per line and per column.\n",
    "This gives us 2 vectors of size 100. These \"features\" are representative among others of the shape of the plankton.\n",
    "For round seeders the ratio between rows and columns near the center of the image should be close.\n",
    "For longer plankton the ratio will be either low or high, depending on plankton position.\n",
    "        </li>\n",
    "        <li>The second is the average of the pixels.\n",
    "            This gives us information on the size of the plankton.\n",
    "        </li>\n",
    "        <li>The third feature is the variance and is applied to non-binarized images.</li>\n",
    "        <li>The last feature is the length of the contour of the plankton. It is obtained by applying a sobel filter on the image. This filter will put black pixels on the contours and white ones everywhere else. We can then just compute the amount of black pixels.\n",
    "    </ul>\n",
    "</p>"
   ]
  },
  {
   "cell_type": "markdown",
   "metadata": {},
   "source": [
    "For convenience, we load the data as a \"pandas\" data frame, so we can use \"pandas\" and \"seaborn\" built in functions to explore the data."
   ]
  },
  {
   "cell_type": "code",
   "execution_count": 3,
   "metadata": {},
   "outputs": [
    {
     "name": "stdout",
     "output_type": "stream",
     "text": [
      "Reading ./public_data/plankton_train from AutoML format\n",
      "Number of examples = 10752\n",
      "Number of features = 203\n",
      "          Class\n",
      "0  chaetognatha\n",
      "1      copepoda\n",
      "2   euphausiids\n",
      "3   fish_larvae\n",
      "4      limacina\n",
      "5       medusae\n",
      "6         other\n",
      "Number of classes = 7\n"
     ]
    }
   ],
   "source": [
    "from data_io import read_as_df\n",
    "data = read_as_df(data_dir  + '/' + data_name)                # The data are loaded as a Pandas Data Frame"
   ]
  },
  {
   "cell_type": "markdown",
   "metadata": {},
   "source": [
    "This shows the distribution of labels in the training set"
   ]
  },
  {
   "cell_type": "code",
   "execution_count": 4,
   "metadata": {},
   "outputs": [
    {
     "data": {
      "text/plain": [
       "limacina        1536\n",
       "chaetognatha    1536\n",
       "copepoda        1536\n",
       "other           1536\n",
       "euphausiids     1536\n",
       "fish_larvae     1536\n",
       "medusae         1536\n",
       "Name: target, dtype: int64"
      ]
     },
     "execution_count": 4,
     "metadata": {},
     "output_type": "execute_result"
    }
   ],
   "source": [
    "data['target'].value_counts()"
   ]
  },
  {
   "cell_type": "markdown",
   "metadata": {},
   "source": [
    "<div style=\"background:#FFFFAA\">\n",
    "<h1>Step 2: Building a predictive model</h1>\n",
    "</div>"
   ]
  },
  {
   "cell_type": "markdown",
   "metadata": {},
   "source": [
    "<div style=\"background:#FFFFAA\">\n",
    "    <h2>Loading data with DataManager</h2>\n",
    "    <p>\n",
    "We reload the data with the AutoML DataManager class because this is more convenient:\n",
    "</div>"
   ]
  },
  {
   "cell_type": "code",
   "execution_count": 7,
   "metadata": {},
   "outputs": [
    {
     "name": "stdout",
     "output_type": "stream",
     "text": [
      "Info file found : /home/azralite/project/OCEAN/starting_kit/public_data/plankton_public.info\n",
      "DataManager : plankton\n",
      "info:\n",
      "\tusage = Sample dataset plankton data\n",
      "\tname = plankton\n",
      "\ttask = multiclass.classification\n",
      "\ttarget_type = Numerical\n",
      "\tfeat_type = Numerical\n",
      "\tmetric = bac_metric\n",
      "\ttime_budget = 1200\n",
      "\tfeat_num = 202\n",
      "\ttarget_num = 7\n",
      "\tlabel_num = 7\n",
      "\ttrain_num = 10752\n",
      "\tvalid_num = 3584\n",
      "\ttest_num = 3584\n",
      "\thas_categorical = 0\n",
      "\thas_missing = 0\n",
      "\tis_sparse = 0\n",
      "\tformat = dense\n",
      "data:\n",
      "\tX_train = array(10752, 203)\n",
      "\tY_train = array(10752, 1)\n",
      "\tX_valid = array(3584, 203)\n",
      "\tY_valid = array(0,)\n",
      "\tX_test = array(3584, 203)\n",
      "\tY_test = array(0,)\n",
      "feat_type:\tarray(202,)\n",
      "feat_idx:\tarray(0,)\n",
      "\n"
     ]
    }
   ],
   "source": [
    "from data_manager import DataManager\n",
    "from sklearn.model_selection import train_test_split\n",
    "D = DataManager(data_name, data_dir, replace_missing=True)\n",
    "print(D)"
   ]
  },
  {
   "cell_type": "code",
   "execution_count": 39,
   "metadata": {},
   "outputs": [],
   "source": [
    "X = D.data['X_train']\n",
    "Y = D.data['Y_train']\n",
    "\n",
    "X_train, X_test, Y_train, Y_test = train_test_split(X, Y, test_size=0.33, random_state=42)"
   ]
  },
  {
   "cell_type": "markdown",
   "metadata": {},
   "source": [
    "## Model Selection \n"
   ]
  },
  {
   "cell_type": "markdown",
   "metadata": {},
   "source": [
    "We get the models"
   ]
  },
  {
   "cell_type": "code",
   "execution_count": 9,
   "metadata": {},
   "outputs": [],
   "source": [
    "from sklearn.linear_model import Perceptron\n",
    "from sklearn.tree import DecisionTreeClassifier\n",
    "from sklearn.naive_bayes import GaussianNB\n",
    "from sklearn.neighbors import KNeighborsClassifier\n",
    "from sklearn.ensemble import RandomForestClassifier\n",
    "\n",
    "from sklearn.model_selection import GridSearchCV"
   ]
  },
  {
   "cell_type": "markdown",
   "metadata": {},
   "source": [
    "<H3>Finding best parameters</H3>"
   ]
  },
  {
   "cell_type": "markdown",
   "metadata": {},
   "source": [
    "Perceptron\n"
   ]
  },
  {
   "cell_type": "code",
   "execution_count": 7,
   "metadata": {},
   "outputs": [
    {
     "data": {
      "text/plain": [
       "{'eta0': 0.01, 'tol': 0.1}"
      ]
     },
     "execution_count": 7,
     "metadata": {},
     "output_type": "execute_result"
    }
   ],
   "source": [
    "#parameters : tol, eta0\n",
    "#tol can decide when the algorithm will stop\n",
    "#eta0 is a constant by which the updates are multiplied. It musn't be too low or too high or it could bias the model\n",
    "classifier = Perceptron()\n",
    "parameters = {'tol' : [1e-1, 1e-3, 1e-5], 'eta0' : [0.01, 0.1, 1, 10]}\n",
    "\n",
    "clf = GridSearchCV(classifier, parameters, scoring = 'balanced_accuracy')\n",
    "clf.fit(X_train, Y_train.ravel())\n",
    "clf.best_params_"
   ]
  },
  {
   "cell_type": "markdown",
   "metadata": {},
   "source": [
    "GaussianNB"
   ]
  },
  {
   "cell_type": "code",
   "execution_count": 14,
   "metadata": {},
   "outputs": [
    {
     "data": {
      "text/plain": [
       "{'var_smoothing': 1e-05}"
      ]
     },
     "execution_count": 14,
     "metadata": {},
     "output_type": "execute_result"
    }
   ],
   "source": [
    "#parameters : var_smoothing\n",
    "#var_smoothing has an influence on the variance of the gaussians\n",
    "\n",
    "classifier = GaussianNB()\n",
    "parameters = {'var_smoothing' : [1e-1, 1e-5, 1e-9, 1e-14]}\n",
    "\n",
    "clf = GridSearchCV(classifier, parameters, scoring = 'balanced_accuracy')\n",
    "clf.fit(X_train, Y_train.ravel())\n",
    "clf.best_params_"
   ]
  },
  {
   "cell_type": "markdown",
   "metadata": {},
   "source": [
    "KNeighborsClassifier"
   ]
  },
  {
   "cell_type": "code",
   "execution_count": 15,
   "metadata": {},
   "outputs": [
    {
     "data": {
      "text/plain": [
       "{'n_neighbors': 1}"
      ]
     },
     "execution_count": 15,
     "metadata": {},
     "output_type": "execute_result"
    }
   ],
   "source": [
    "#parameters : n_neighbors,\n",
    "#n_neighbors is the number of neighbors to classifie datas in the model\n",
    "classifier = KNeighborsClassifier()\n",
    "parameters = {'n_neighbors' : [1,2,3,5,10]}\n",
    "\n",
    "clf = GridSearchCV(classifier, parameters, scoring = 'balanced_accuracy')\n",
    "clf.fit(X_train, Y_train.ravel())\n",
    "clf.best_params_"
   ]
  },
  {
   "cell_type": "markdown",
   "metadata": {},
   "source": [
    "DecisionTreeClassifier"
   ]
  },
  {
   "cell_type": "code",
   "execution_count": 16,
   "metadata": {},
   "outputs": [
    {
     "data": {
      "text/plain": [
       "{'max_depth': 500, 'max_features': 'sqrt'}"
      ]
     },
     "execution_count": 16,
     "metadata": {},
     "output_type": "execute_result"
    }
   ],
   "source": [
    "#parameters : max_depth, max_feature\n",
    "#both of these parameters can have an influence on the training time and the risk of overfitting\n",
    "\n",
    "classifier = DecisionTreeClassifier()\n",
    "parameters = {'max_depth' : [10,100, 500, 1000], 'max_features' : ('sqrt', 'auto', 'log2')}\n",
    "\n",
    "clf = GridSearchCV(classifier, parameters, scoring = 'balanced_accuracy')\n",
    "clf.fit(X_train, Y_train.ravel())\n",
    "clf.best_params_"
   ]
  },
  {
   "cell_type": "markdown",
   "metadata": {},
   "source": [
    "RandomForest"
   ]
  },
  {
   "cell_type": "code",
   "execution_count": 48,
   "metadata": {},
   "outputs": [
    {
     "data": {
      "text/plain": [
       "{'max_depth': 10, 'max_features': 'auto', 'n_estimators': 200}"
      ]
     },
     "execution_count": 48,
     "metadata": {},
     "output_type": "execute_result"
    }
   ],
   "source": [
    "#parameters : n_estimators, mæx_depth, max_features\n",
    "#this model is pretty similar to DecisionTreeClassifier but there are several trees.\n",
    "#n_estimator is the number of trees in the model\n",
    "\n",
    "classifier = RandomForestClassifier()\n",
    "parameters = {'n_estimators' : [290, 300, 310, 320, 330, 340] , 'warm_start' : (True, False), 'bootstrap' : (True, False)}\n",
    "\n",
    "clf = GridSearchCV(classifier, parameters, scoring = 'balanced_accuracy', n_jobs=-1, verbose = 3 )\n",
    "clf.fit(X_train, Y_train.ravel())\n",
    "clf.best_params_"
   ]
  },
  {
   "cell_type": "markdown",
   "metadata": {},
   "source": [
    "AdaBoost"
   ]
  },
  {
   "cell_type": "code",
   "execution_count": 49,
   "metadata": {},
   "outputs": [
    {
     "data": {
      "text/plain": [
       "{'learning_rate': 0.5, 'n_estimators': 50}"
      ]
     },
     "execution_count": 49,
     "metadata": {},
     "output_type": "execute_result"
    }
   ],
   "source": [
    "from sklearn.ensemble import AdaBoostClassifier\n",
    "classifier = AdaBoostClassifier()\n",
    "parameters = {'n_estimators' : [10,50, 100, 150], 'learning_rate' : [0.5,0.75,1,1.25,1.5]}\n",
    "\n",
    "clf = GridSearchCV(classifier, parameters, scoring = 'balanced_accuracy')\n",
    "clf.fit(X_train, Y_train.ravel())\n",
    "clf.best_params_"
   ]
  },
  {
   "cell_type": "markdown",
   "metadata": {},
   "source": [
    "GradientBoosting"
   ]
  },
  {
   "cell_type": "code",
   "execution_count": 12,
   "metadata": {},
   "outputs": [
    {
     "name": "stdout",
     "output_type": "stream",
     "text": [
      "Fitting 3 folds for each of 24 candidates, totalling 72 fits\n"
     ]
    },
    {
     "name": "stderr",
     "output_type": "stream",
     "text": [
      "[Parallel(n_jobs=-1)]: Using backend LokyBackend with 4 concurrent workers.\n",
      "[Parallel(n_jobs=-1)]: Done  24 tasks      | elapsed: 18.7min\n",
      "[Parallel(n_jobs=-1)]: Done  72 out of  72 | elapsed: 54.0min finished\n"
     ]
    },
    {
     "data": {
      "text/plain": [
       "{'learning_rate': 0.2, 'n_estimators': 200, 'warm_start': False}"
      ]
     },
     "execution_count": 12,
     "metadata": {},
     "output_type": "execute_result"
    }
   ],
   "source": [
    "from sklearn.ensemble import GradientBoostingClassifier\n",
    "\n",
    "classifier = GradientBoostingClassifier()\n",
    "parameters = {'learning_rate' : [ 0.05, 0.1, 0.2], 'n_estimators' : [50, 100, 150, 200], 'warm_start' : (True, False)}\n",
    "\n",
    "clf = GridSearchCV(classifier, parameters, scoring= 'balanced_accuracy', n_jobs=-1, verbose=3)\n",
    "clf.fit(X_train, Y_train.ravel())\n",
    "clf.best_params_"
   ]
  },
  {
   "cell_type": "markdown",
   "metadata": {},
   "source": [
    "## Model comparison"
   ]
  },
  {
   "cell_type": "code",
   "execution_count": 21,
   "metadata": {},
   "outputs": [],
   "source": [
    "from libscores import get_metric\n",
    "metric_name, scoring_function = get_metric()\n",
    "\n",
    "from sklearn.metrics import balanced_accuracy_score as sklearn_metric\n",
    "from sklearn.model_selection import StratifiedShuffleSplit\n",
    "\n",
    "from sklearn.linear_model import Perceptron\n",
    "from sklearn.tree import DecisionTreeClassifier\n",
    "from sklearn.naive_bayes import GaussianNB\n",
    "from sklearn.neighbors import KNeighborsClassifier\n",
    "from sklearn.ensemble import RandomForestClassifier\n",
    "from sklearn.ensemble import AdaBoostClassifier\n",
    "\n",
    "from sklearn.metrics import make_scorer\n",
    "from sklearn.model_selection import cross_val_score\n"
   ]
  },
  {
   "cell_type": "code",
   "execution_count": 42,
   "metadata": {},
   "outputs": [
    {
     "name": "stdout",
     "output_type": "stream",
     "text": [
      "perceptron\n",
      "Training score for the balanced_accuracy_score metric = 0.2589\n",
      "\n",
      "CV score (95 perc. CI): 0.29 (+/- 0.12)\n",
      "\n",
      "GaussianNB\n",
      "Training score for the balanced_accuracy_score metric = 0.4357\n",
      "\n",
      "CV score (95 perc. CI): 0.43 (+/- 0.01)\n",
      "\n",
      "KNeighbors\n",
      "Training score for the balanced_accuracy_score metric = 0.6837\n",
      "\n",
      "CV score (95 perc. CI): 0.79 (+/- 0.03)\n",
      "\n",
      "\n",
      "DecisionTree\n",
      "Training score for the balanced_accuracy_score metric = 0.5642\n",
      "\n",
      "CV score (95 perc. CI): 0.55 (+/- 0.03)\n",
      "\n",
      "\n",
      "RandomForest\n",
      "Training score for the balanced_accuracy_score metric = 0.7805\n",
      "\n",
      "CV score (95 perc. CI): 0.77 (+/- 0.02)\n",
      "\n",
      "\n",
      "AdaBoost\n",
      "Training score for the balanced_accuracy_score metric = 0.3556\n",
      "\n",
      "CV score (95 perc. CI): 0.37 (+/- 0.05)\n",
      "\n",
      "\n"
     ]
    }
   ],
   "source": [
    "#We can now compare the models with their maximum potential since we're using their best hyperparameters\n",
    "\n",
    "P = Perceptron(tol = 0.1, eta0 = 1e-05)\n",
    "G = GaussianNB(var_smoothing = 1e-5)\n",
    "K = KNeighborsClassifier(n_neighbors = 1)\n",
    "T = DecisionTreeClassifier(max_depth = 1000, max_features = 'sqrt')\n",
    "R = RandomForestClassifier(n_estimators = 310, bootstrap=False, warm_start= False)\n",
    "A = AdaBoostClassifier(n_estimators = 500, learning_rate=0.5)\n",
    "\n",
    "print(\"perceptron\")\n",
    "P.fit(X_train, Y_train.ravel())\n",
    "p_train = P.predict(X_test)\n",
    "print('Training score for the', metric_name, 'metric = %5.4f' % scoring_function(Y_test, p_train))\n",
    "scoresP = cross_val_score(P, X_train, Y_train.ravel(), cv=5, scoring=make_scorer(scoring_function), n_jobs = -1)\n",
    "print('\\nCV score (95 perc. CI): %0.2f (+/- %0.2f)' % (scoresP.mean(), scoresP.std() * 2))\n",
    "print()\n",
    "\n",
    "print(\"GaussianNB\")\n",
    "G.fit(X_train, Y_train.ravel())\n",
    "g_train = G.predict(X_test)\n",
    "print('Training score for the', metric_name, 'metric = %5.4f' % scoring_function(Y_test, g_train))\n",
    "scoresG = cross_val_score(G, X_train, Y_train.ravel(), cv=5, scoring=make_scorer(scoring_function), n_jobs= -1)\n",
    "print('\\nCV score (95 perc. CI): %0.2f (+/- %0.2f)' % (scoresG.mean(), scoresG.std() * 2))\n",
    "print()\n",
    "\n",
    "print(\"KNeighbors\")\n",
    "K.fit(X_train, Y_train.ravel())\n",
    "k_train = K.predict(X_test)\n",
    "print('Training score for the', metric_name, 'metric = %5.4f' % scoring_function(Y_test, k_train))\n",
    "scoresK = cross_val_score(K, X_train, Y_train.ravel(), cv=5, scoring=make_scorer(scoring_function), n_jobs= -1)\n",
    "print('\\nCV score (95 perc. CI): %0.2f (+/- %0.2f)' % (scores.mean(), scoresK.std() * 2))\n",
    "print()\n",
    "print()\n",
    "\n",
    "print(\"DecisionTree\")\n",
    "T.fit(X_train, Y_train.ravel())\n",
    "t_train = T.predict(X_test)\n",
    "print('Training score for the', metric_name, 'metric = %5.4f' % scoring_function(Y_test, t_train))\n",
    "scoresT = cross_val_score(T, X_train, Y_train.ravel(), cv=5, scoring=make_scorer(scoring_function), n_jobs = -1)\n",
    "print('\\nCV score (95 perc. CI): %0.2f (+/- %0.2f)' % (scoresT.mean(), scoresT.std() * 2))\n",
    "print()\n",
    "print()\n",
    "\n",
    "print(\"RandomForest\")\n",
    "R.fit(X_train, Y_train.ravel())\n",
    "r_train = R.predict(X_test)\n",
    "print('Training score for the', metric_name, 'metric = %5.4f' % scoring_function(Y_test, r_train))\n",
    "scoresR = cross_val_score(R, X_train, Y_train.ravel(), cv=5, scoring=make_scorer(scoring_function), n_jobs = -1)\n",
    "print('\\nCV score (95 perc. CI): %0.2f (+/- %0.2f)' % (scoresR.mean(), scoresR.std() * 2))\n",
    "print()\n",
    "print()\n",
    "\n",
    "\n",
    "print(\"AdaBoost\")\n",
    "A.fit(X_train, Y_train.ravel())\n",
    "a_train = A.predict(X_test)\n",
    "print('Training score for the', metric_name, 'metric = %5.4f' % scoring_function(Y_test, a_train))\n",
    "scoresA = cross_val_score(A, X_train, Y_train.ravel(), cv=5, scoring=make_scorer(scoring_function), n_jobs = -1)\n",
    "print('\\nCV score (95 perc. CI): %0.2f (+/- %0.2f)' % (scoresA.mean(), scoresA.std() * 2))\n",
    "print()\n",
    "print()\n"
   ]
  },
  {
   "cell_type": "markdown",
   "metadata": {},
   "source": [
    "<h5>On constate que RandomForest donne un resultat qui varie.<br> Il lui arrive d'avoir un score > KNeighbors, on va donc essayer de trouver des meta-parametres plus précis</h5>"
   ]
  },
  {
   "cell_type": "markdown",
   "metadata": {},
   "source": [
    "On se rend compte que dans tout les cas Il conseil de gardder max_depth et max_features par default (c'est a dire None) ce qui semble logique car plus le classifieur apprend plus il sera precis)\n",
    "Par contre pour n_estimators le resultat varie"
   ]
  },
  {
   "cell_type": "markdown",
   "metadata": {},
   "source": [
    "<h3>Nous observons aussi que RandomForest possede un très bon score. Nous pensons donc nous orienter vers un principe de voting et/ou de stacking pour prendre en compte ces différents modeles.</h3>\n",
    "<b>Nous verrons cela au prochain TP <br> \n",
    "Nous allons surment attribuer un poids à chaque votant en fonction de son score ci-dessus</b>\n"
   ]
  },
  {
   "cell_type": "code",
   "execution_count": 45,
   "metadata": {},
   "outputs": [
    {
     "data": {
      "text/plain": [
       "{'voting': 'hard'}"
      ]
     },
     "execution_count": 45,
     "metadata": {},
     "output_type": "execute_result"
    }
   ],
   "source": [
    "from sklearn.ensemble import VotingClassifier\n",
    "classifier = VotingClassifier(estimators=[('lr', K), ('rf', T), ('gnb', R)])\n",
    "parameters = { 'voting' : ('soft', 'hard')}\n",
    "\n",
    "clf = GridSearchCV(classifier, parameters, scoring = 'balanced_accuracy')\n",
    "clf.fit(X_train, Y_train.ravel())\n",
    "clf.best_params_"
   ]
  },
  {
   "cell_type": "code",
   "execution_count": null,
   "metadata": {},
   "outputs": [],
   "source": [
    "from sklearn.ensemble import VotingClassifier\n",
    "\n",
    "eclf1 = VotingClassifier(estimators=[('lr', K), ('rf', T), ('gnb', R)], voting='soft')\n",
    "eclf1 = eclf1.fit(X_train, Y_train.ravel())\n",
    "ec_train = P.predict(X_test)\n",
    "print('Training score for the', metric_name, 'metric = %5.4f' % scoring_function(Y_test, ec_train))\n",
    "print()"
   ]
  },
  {
   "cell_type": "markdown",
   "metadata": {},
   "source": [
    "<h3>On peut voir que le score est tres faible. <br> On ne s'est pas encore intéréssé aux parametres donc on va pouvoir l'ameliorer </h3>\n"
   ]
  },
  {
   "cell_type": "markdown",
   "metadata": {},
   "source": [
    "<div style=\"background:#FFFFAA\">\n",
    "    <h2>Test Unitaire</h2>\n",
    "    <p>\n",
    "        On va maintenant essayer de faire quelques test unitaires pour s'assurer que cela fonctionne bien\n",
    "    </p>\n",
    "</div>"
   ]
  },
  {
   "cell_type": "markdown",
   "metadata": {},
   "source": [
    "<h4>Le premier test va etre de s'assurer que le score fonctionne</h4>"
   ]
  },
  {
   "cell_type": "code",
   "execution_count": 46,
   "metadata": {},
   "outputs": [
    {
     "name": "stdout",
     "output_type": "stream",
     "text": [
      "Le score fonctionne bien!\n"
     ]
    }
   ],
   "source": [
    "if scoring_function(Y_train, Y_train) == 1 :\n",
    "    print(\"Le score fonctionne bien!\")\n",
    "else:\n",
    "    print(\"Problème dans la fonction scoring_function\")"
   ]
  },
  {
   "cell_type": "markdown",
   "metadata": {},
   "source": [
    "<h4>On va maintenant voir si l'ajout de hyper-paramètres améliore bien le score</h4>"
   ]
  },
  {
   "cell_type": "code",
   "execution_count": 48,
   "metadata": {},
   "outputs": [
    {
     "name": "stdout",
     "output_type": "stream",
     "text": [
      "Le score avec hyper-paramètre est superieur à celui sans\n"
     ]
    }
   ],
   "source": [
    "R = RandomForestClassifier(n_estimators = 310, bootstrap=False, warm_start= False)\n",
    "R2 = RandomForestClassifier()\n",
    "\n",
    "R.fit(X_train, Y_train.ravel())\n",
    "R2.fit(X_train, Y_train.ravel())\n",
    "\n",
    "R_train = R.predict(X_test)\n",
    "R2_train = R2.predict(X_test)\n",
    "\n",
    "if scoring_function(Y_test, R_train) > scoring_function(Y_test, R2_train):\n",
    "    print(\"Le score avec hyper-paramètre est superieur à celui sans\")\n",
    "else :\n",
    "    print(\"Le score avec hyper-paramètre est inferieur à celui sans\")"
   ]
  },
  {
   "cell_type": "markdown",
   "metadata": {},
   "source": [
    "<div style=\"background:#FFFFAA\">\n",
    "    <h2>Training a predictive model</h2>\n",
    "    <p>\n",
    "We provide an example of predictive model (for classification or regression) in the `sample_code_submission/` directory. It is a quite stupid model: it makes constant predictions. Replace it with your own model.\n",
    "    </div>"
   ]
  },
  {
   "cell_type": "code",
   "execution_count": 25,
   "metadata": {},
   "outputs": [
    {
     "name": "stdout",
     "output_type": "stream",
     "text": [
      "Object `df_cross_validate` not found.\n"
     ]
    }
   ],
   "source": [
    "??df_cross_validate\n",
    "from data_io import write\n",
    "from model import model"
   ]
  },
  {
   "cell_type": "markdown",
   "metadata": {},
   "source": [
    "<div style=\"background:#FFFFAA\">\n",
    "an instance of the model (run the constructor) and attempt to reload a previously saved version from `sample_code_submission/`:\n",
    "    \n",
    "</div>"
   ]
  },
  {
   "cell_type": "code",
   "execution_count": 26,
   "metadata": {},
   "outputs": [],
   "source": [
    "# uncomment the desired model\n",
    "\n",
    "# Decision tree model\n",
    "from sklearn.ensemble import RandomForestClassifier\n",
    "M = model(classifier=RandomForestClassifier(n_estimators = 310 , bootstrap = False, warm_start = False))\n",
    "\n",
    "trained_model_name = model_dir + data_name\n",
    "\n",
    "# Uncomment the next line to re-load an already trained model\n",
    "#M = model()\n",
    "#M = M.load(trained_model_name)                  "
   ]
  },
  {
   "cell_type": "markdown",
   "metadata": {},
   "source": [
    "<div style=\"background:#FFFFAA\">\n",
    "    Train the model (unless you reloaded a trained model) and make predictions. \n",
    "</div>"
   ]
  },
  {
   "cell_type": "code",
   "execution_count": 27,
   "metadata": {},
   "outputs": [
    {
     "name": "stdout",
     "output_type": "stream",
     "text": [
      "FIT: dim(X)= [9676, 203]\n",
      "FIT: dim(y)= [9676, 1]\n",
      "training\n",
      "PREDICT: dim(X)= [9676, 203]\n",
      "PREDICT: dim(y)= [9676, 1]\n",
      "PREDICT: dim(X)= [3584, 203]\n",
      "PREDICT: dim(y)= [3584, 1]\n",
      "PREDICT: dim(X)= [3584, 203]\n",
      "PREDICT: dim(y)= [3584, 1]\n"
     ]
    }
   ],
   "source": [
    "if not(M.is_trained):\n",
    "    M.fit(X_train, Y_train.ravel())\n",
    "    print('training')\n",
    "\n",
    "Y_hat_train = M.predict(X_train)# Optional, not really needed to test on training examples\n",
    "Y_hat_valid = M.predict(D.data['X_valid'])\n",
    "Y_hat_test = M.predict(D.data['X_test'])"
   ]
  },
  {
   "cell_type": "markdown",
   "metadata": {},
   "source": [
    "<div style=\"background:#FFFFAA\">\n",
    "    <b> Save the trained model </b> (will be ready to reload next time around) and save the prediction results. IMPORTANT: if you save the trained model, it will be bundled with your sample code submission. Therefore your model will NOT be retrained on the challenge platform. Remove the pickle from the submission if you want the model to be retrained on the platform.\n",
    "</div>"
   ]
  },
  {
   "cell_type": "code",
   "execution_count": 28,
   "metadata": {},
   "outputs": [
    {
     "name": "stdout",
     "output_type": "stream",
     "text": [
      "sample_result_submission/plankton_test.predict\r\n",
      "sample_result_submission/plankton_train.predict\r\n",
      "sample_result_submission/plankton_valid.predict\r\n"
     ]
    }
   ],
   "source": [
    "M.save(trained_model_name)                 \n",
    "result_name = result_dir + data_name\n",
    "from data_io import write\n",
    "write(result_name + '_train.predict', Y_hat_train)\n",
    "write(result_name + '_valid.predict', Y_hat_valid)\n",
    "write(result_name + '_test.predict', Y_hat_test)\n",
    "!ls $result_name*"
   ]
  },
  {
   "cell_type": "markdown",
   "metadata": {},
   "source": [
    "<div style=\"background:#FFFFAA\">\n",
    "    <h2>Scoring the results</h2>\n",
    "    <h3>Load the challenge metric</h3>\n",
    "    <p>\n",
    "<b>The metric chosen for your challenge</b> is identified in the \"metric.txt\" file found in the `scoring_function/` directory. The function \"get_metric\" searches first for a metric having that name in my_metric.py, then in libscores.py, then in sklearn.metric.\n",
    "    </div>"
   ]
  },
  {
   "cell_type": "markdown",
   "metadata": {},
   "source": [
    "<div style=\"background:#FFFFAA\">\n",
    "The chosen metric is the balanced accuracy. It computes the proportion of elements correctly predicted for each class. It then returns the mean of these values. The advantage of this metric is that every class is given an equal weight. <br> In our case, since all the classes are perfectly balanced, it is equivalent to simply computing the accuracy score but it the case the test set is changed and is no longer balanced, the balanced accuracy will still work properly while the accuracy score will not.\n",
    "</div>"
   ]
  },
  {
   "cell_type": "code",
   "execution_count": 29,
   "metadata": {},
   "outputs": [
    {
     "name": "stdout",
     "output_type": "stream",
     "text": [
      "Using scoring metric: balanced_accuracy_score\n"
     ]
    }
   ],
   "source": [
    "from libscores import get_metric\n",
    "metric_name, scoring_function = get_metric()\n",
    "print('Using scoring metric:', metric_name)\n",
    "# Uncomment the next line to display the code of the scoring metric\n",
    "#??scoring_function"
   ]
  },
  {
   "cell_type": "markdown",
   "metadata": {},
   "source": [
    "<div style=\"background:#FFFFAA\">\n",
    "    <h3> Training performance </h3>\n",
    "    <p>\n",
    "The participants normally posess target values (labels) only for training examples (except for the sample data). We compute with the `example` metric the training score, which should be zero for perfect predictions.\n",
    "        </div>"
   ]
  },
  {
   "cell_type": "code",
   "execution_count": 30,
   "metadata": {},
   "outputs": [
    {
     "name": "stdout",
     "output_type": "stream",
     "text": [
      "Training score for the balanced_accuracy_score metric = 0.9998\n",
      "Ideal score for the balanced_accuracy_score metric = 1.0000\n"
     ]
    }
   ],
   "source": [
    "print('Training score for the', metric_name, 'metric = %5.4f' % scoring_function(Y_train, Y_hat_train))\n",
    "print('Ideal score for the', metric_name, 'metric = %5.4f' % scoring_function(Y_train, Y_train))"
   ]
  },
  {
   "cell_type": "markdown",
   "metadata": {},
   "source": [
    "You can add here other scores and result visualization."
   ]
  },
  {
   "cell_type": "code",
   "execution_count": 37,
   "metadata": {},
   "outputs": [
    {
     "data": {
      "image/png": "[encoded data removed]",
      "text/plain": [
       "<Figure size 800x800 with 2 Axes>"
      ]
     },
     "metadata": {},
     "output_type": "display_data"
    }
   ],
   "source": [
    "from sklearn.metrics import confusion_matrix\n",
    "import numpy as np\n",
    "import matplotlib.pyplot as plt\n",
    "\n",
    "plt.style.use('default')\n",
    "labels = [\"chaetognatha\",\"copepoda\",\"euphausiids\",\"fish_larvae\",\"limacina\",\"medusae\",\"other\"]\n",
    "cm = confusion_matrix(Y_train, Y_hat_train)\n",
    "cm = cm.astype('float') / cm.sum(axis=1)[:,np.newaxis]\n",
    "fig, ax = plt.subplots(figsize=(8,8))\n",
    "im = ax.imshow(cm, interpolation='nearest',cmap=plt.cm.Blues)\n",
    "ax.figure.colorbar(im, ax=ax)\n",
    "ax.set(xticks=np.arange(cm.shape[1]),yticks=np.arange(cm.shape[0]),xticklabels=labels,yticklabels=labels,title=\"Confusion matrix\",xlabel=\"Predicted label\",ylabel=\"True label\")\n",
    "plt.setp(ax.get_xticklabels(), rotation=45, ha=\"right\", rotation_mode=\"anchor\")\n",
    "fmt = '.2f'\n",
    "thresh = cm.max()/2.\n",
    "for i in range(cm.shape[0]):\n",
    "    for j in range(cm.shape[1]):\n",
    "        ax.text(j, i, format(cm[i, j], fmt),\n",
    "                ha=\"center\", va=\"center\",\n",
    "                color=\"white\" if cm[i, j] > thresh else \"black\")\n",
    "fig.tight_layout()"
   ]
  },
  {
   "cell_type": "markdown",
   "metadata": {},
   "source": [
    "<div style=\"background:#FFFFAA\">\n",
    "    <h3>Cross-validation performance</h3>\n",
    "    <p>\n",
    "The participants do not have access to the labels Y_valid and Y_test to self-assess their validation and test performances. But training performance is not a good prediction of validation or test performance. Using cross-validation, the training data is split into multiple training/test folds, which allows participants to self-assess their model during development. The average CV result and 95% confidence interval is displayed.\n",
    "   </div>"
   ]
  },
  {
   "cell_type": "code",
   "execution_count": 33,
   "metadata": {},
   "outputs": [
    {
     "name": "stdout",
     "output_type": "stream",
     "text": [
      "\n",
      "CV score (95 perc. CI): 0.79 (+/- 0.01)\n"
     ]
    }
   ],
   "source": [
    "from sklearn.metrics import make_scorer\n",
    "from sklearn.model_selection import cross_val_score\n",
    "scores = cross_val_score(M, X_train, Y_train.ravel(), cv=5, scoring=make_scorer(scoring_function), n_jobs = -1)\n",
    "print('\\nCV score (95 perc. CI): %0.2f (+/- %0.2f)' % (scores.mean(), scores.std() * 2))"
   ]
  },
  {
   "cell_type": "markdown",
   "metadata": {},
   "source": [
    "<div style=\"background:#FFFFAA\">\n",
    "<h1> Step 3: Making a submission </h1> \n",
    "\n",
    "<h2> Unit testing </h2> \n",
    "\n",
    "It is <b><span style=\"color:red\">important that you test your submission files before submitting them</span></b>. All you have to do to make a submission is modify the file <code>model.py</code> in the <code>sample_code_submission/</code> directory, then run this test to make sure everything works fine. This is the actual program that will be run on the server to test your submission. \n",
    "<br>\n",
    "Keep the sample code simple.\n",
    "</div>"
   ]
  },
  {
   "cell_type": "code",
   "execution_count": 39,
   "metadata": {
    "scrolled": true
   },
   "outputs": [
    {
     "name": "stdout",
     "output_type": "stream",
     "text": [
      "/bin/sh: 1: source: not found\n",
      "Using input_dir: /home/paul/projects/OCEAN/starting_kit/public_data\n",
      "Using output_dir: /home/paul/projects/OCEAN/starting_kit/sample_result_submission\n",
      "Using program_dir: /home/paul/projects/OCEAN/starting_kit/ingestion_program\n",
      "Using submission_dir: /home/paul/projects/OCEAN/starting_kit/sample_code_submission\n",
      "\n",
      "========== Ingestion program version 6 ==========\n",
      "\n",
      "************************************************\n",
      "******** Processing dataset Plankton ********\n",
      "************************************************\n",
      "========= Reading and converting data ==========\n",
      "Info file found : /home/paul/projects/OCEAN/starting_kit/public_data/plankton_public.info\n",
      "========= Reading /home/paul/projects/OCEAN/starting_kit/public_data/plankton_feat.type\n",
      "[+] Success in  0.00 sec\n",
      "========= Reading /home/paul/projects/OCEAN/starting_kit/public_data/plankton_train.data\n",
      "Replace missing values by 0 (slow, sorry)\n",
      "[+] Success in  0.71 sec\n",
      "========= Reading /home/paul/projects/OCEAN/starting_kit/public_data/plankton_train.solution\n",
      "[+] Success in  0.02 sec\n",
      "========= Reading /home/paul/projects/OCEAN/starting_kit/public_data/plankton_valid.data\n",
      "Replace missing values by 0 (slow, sorry)\n",
      "[+] Success in  0.23 sec\n",
      "========= Reading /home/paul/projects/OCEAN/starting_kit/public_data/plankton_valid.solution\n",
      "[+] Success in  0.00 sec\n",
      "========= Reading /home/paul/projects/OCEAN/starting_kit/public_data/plankton_test.data\n",
      "Replace missing values by 0 (slow, sorry)\n",
      "[+] Success in  0.21 sec\n",
      "========= Reading /home/paul/projects/OCEAN/starting_kit/public_data/plankton_test.solution\n",
      "[+] Success in  0.00 sec\n",
      "DataManager : plankton\n",
      "info:\n",
      "\tusage = Sample dataset plankton data\n",
      "\tname = plankton\n",
      "\ttask = multiclass.classification\n",
      "\ttarget_type = Numerical\n",
      "\tfeat_type = Numerical\n",
      "\tmetric = bac_metric\n",
      "\ttime_budget = 1200\n",
      "\tfeat_num = 202\n",
      "\ttarget_num = 7\n",
      "\tlabel_num = 7\n",
      "\ttrain_num = 10752\n",
      "\tvalid_num = 3584\n",
      "\ttest_num = 3584\n",
      "\thas_categorical = 0\n",
      "\thas_missing = 0\n",
      "\tis_sparse = 0\n",
      "\tformat = dense\n",
      "data:\n",
      "\tX_train = array(10752, 203)\n",
      "\tY_train = array(10752, 1)\n",
      "\tX_valid = array(3584, 203)\n",
      "\tY_valid = array(0,)\n",
      "\tX_test = array(3584, 203)\n",
      "\tY_test = array(0,)\n",
      "feat_type:\tarray(202,)\n",
      "feat_idx:\tarray(203,)\n",
      "\n",
      "[+] Size of uploaded data  64.00 bytes\n",
      "[+] Cumulated time budget (all tasks so far)  1200.00 sec\n",
      "[+] Time budget for this task 1200.00 sec\n",
      "[+] Remaining time after reading data 1198.82 sec\n",
      "======== Creating model ==========\n",
      "**********************************************************\n",
      "****** Attempting to reload model to avoid training ******\n",
      "**********************************************************\n",
      "Model reloaded from: /home/paul/projects/OCEAN/starting_kit/sample_code_submission/plankton_model.pickle\n",
      "[+] Model reloaded, no need to train!\n",
      "PREDICT: dim(X)= [10752, 203]\n",
      "PREDICT: dim(y)= [10752, 1]\n",
      "PREDICT: dim(X)= [3584, 203]\n",
      "PREDICT: dim(y)= [3584, 1]\n",
      "PREDICT: dim(X)= [3584, 203]\n",
      "PREDICT: dim(y)= [3584, 1]\n",
      "[+] Prediction success, time spent so far  3.11 sec\n",
      "======== Saving results to: /home/paul/projects/OCEAN/starting_kit/sample_result_submission\n",
      "[+] Results saved, time spent so far  3.13 sec\n",
      "[+] End cycle, time left 1196.87 sec\n",
      "[+] Done\n",
      "[+] Overall time spent  3.90 sec ::  Overall time budget 1200.00 sec\n"
     ]
    }
   ],
   "source": [
    "!source activate python3; python $problem_dir/ingestion.py $data_dir $result_dir $problem_dir $model_dir"
   ]
  },
  {
   "cell_type": "markdown",
   "metadata": {},
   "source": [
    "<div style=\"background:#FFFFAA\">\n",
    "Also test the scoring program:\n",
    "    </div>"
   ]
  },
  {
   "cell_type": "code",
   "execution_count": 40,
   "metadata": {},
   "outputs": [
    {
     "name": "stdout",
     "output_type": "stream",
     "text": [
      "/bin/sh: 1: source: not found\n",
      "======= Set 1 (Plankton_train): balanced_accuracy_score(set1_score)=0.982421875000 =======\n"
     ]
    }
   ],
   "source": [
    "scoring_output_dir = 'scoring_output'\n",
    "!source activate python3; python $score_dir/score.py $data_dir $result_dir $scoring_output_dir"
   ]
  },
  {
   "cell_type": "markdown",
   "metadata": {
    "collapsed": true
   },
   "source": [
    "<div style=\"background:#FFFFAA\">\n",
    "    <h1> Preparing the submission </h1>\n",
    "\n",
    "Zip the contents of `sample_code_submission/` (without the directory), or download the challenge public_data and run the command in the previous cell, after replacing sample_data by public_data.\n",
    "Then zip the contents of `sample_result_submission/` (without the directory).\n",
    "<b><span style=\"color:red\">Do NOT zip the data with your submissions</span></b>.</div>"
   ]
  },
  {
   "cell_type": "code",
   "execution_count": 41,
   "metadata": {},
   "outputs": [
    {
     "name": "stdout",
     "output_type": "stream",
     "text": [
      "Submit one of these files:\n",
      "./sample_code_submission_20-03-06-23-32.zip\n",
      "./sample_result_submission_20-03-06-23-32.zip\n"
     ]
    }
   ],
   "source": [
    "import datetime \n",
    "from data_io import zipdir\n",
    "the_date = datetime.datetime.now().strftime(\"%y-%m-%d-%H-%M\")\n",
    "sample_code_submission = './sample_code_submission_' + the_date + '.zip'\n",
    "sample_result_submission = './sample_result_submission_' + the_date + '.zip'\n",
    "zipdir(sample_code_submission, model_dir)\n",
    "zipdir(sample_result_submission, result_dir)\n",
    "print(\"Submit one of these files:\\n\" + sample_code_submission + \"\\n\" + sample_result_submission)"
   ]
  },
  {
   "cell_type": "code",
   "execution_count": null,
   "metadata": {},
   "outputs": [],
   "source": []
  },
  {
   "cell_type": "code",
   "execution_count": null,
   "metadata": {},
   "outputs": [],
   "source": []
  }
 ],
 "metadata": {
  "kernelspec": {
   "display_name": "Python 3",
   "language": "python",
   "name": "python3"
  },
  "language_info": {
   "codemirror_mode": {
    "name": "ipython",
    "version": 3
   },
   "file_extension": ".py",
   "mimetype": "text/x-python",
   "name": "python",
   "nbconvert_exporter": "python",
   "pygments_lexer": "ipython3",
   "version": "3.7.4"
  }
 },
 "nbformat": 4,
 "nbformat_minor": 1
}
